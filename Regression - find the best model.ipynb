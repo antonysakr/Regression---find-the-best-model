{
 "cells": [
  {
   "cell_type": "markdown",
   "metadata": {},
   "source": [
    "<center> <h1  style=\"background-color:#7CCA62; color:white;\">  Regression - find the best model </h1></center>  \n"
   ]
  },
  {
   "cell_type": "markdown",
   "metadata": {},
   "source": [
    "<h3 style=\"background-color:#E5F4E0; color:#387026;\">  Importing the libraries </h3>"
   ]
  },
  {
   "cell_type": "code",
   "execution_count": 270,
   "metadata": {},
   "outputs": [],
   "source": [
    "import sqlite3\n",
    "import pandas as pd \n",
    "import numpy as np\n",
    "import os\n",
    "import matplotlib.pyplot as plt"
   ]
  },
  {
   "cell_type": "markdown",
   "metadata": {},
   "source": [
    "<h3 style=\"background-color:#E5F4E0; color:#387026;\">  Importing the Dataset </h3>"
   ]
  },
  {
   "cell_type": "code",
   "execution_count": 271,
   "metadata": {},
   "outputs": [],
   "source": [
    "# Create your connection.\n",
    "cnx = sqlite3.connect('database.sqlite')\n",
    "df = pd.read_sql_query(\"SELECT * FROM Player_Attributes\", cnx)"
   ]
  },
  {
   "cell_type": "markdown",
   "metadata": {},
   "source": [
    "Q1. Discorver your dataset and clean it if necessary"
   ]
  },
  {
   "cell_type": "code",
   "execution_count": 272,
   "metadata": {},
   "outputs": [
    {
     "data": {
      "text/html": [
       "<div>\n",
       "<style scoped>\n",
       "    .dataframe tbody tr th:only-of-type {\n",
       "        vertical-align: middle;\n",
       "    }\n",
       "\n",
       "    .dataframe tbody tr th {\n",
       "        vertical-align: top;\n",
       "    }\n",
       "\n",
       "    .dataframe thead th {\n",
       "        text-align: right;\n",
       "    }\n",
       "</style>\n",
       "<table border=\"1\" class=\"dataframe\">\n",
       "  <thead>\n",
       "    <tr style=\"text-align: right;\">\n",
       "      <th></th>\n",
       "      <th>id</th>\n",
       "      <th>player_fifa_api_id</th>\n",
       "      <th>player_api_id</th>\n",
       "      <th>date</th>\n",
       "      <th>overall_rating</th>\n",
       "      <th>potential</th>\n",
       "      <th>preferred_foot</th>\n",
       "      <th>attacking_work_rate</th>\n",
       "      <th>defensive_work_rate</th>\n",
       "      <th>crossing</th>\n",
       "      <th>...</th>\n",
       "      <th>vision</th>\n",
       "      <th>penalties</th>\n",
       "      <th>marking</th>\n",
       "      <th>standing_tackle</th>\n",
       "      <th>sliding_tackle</th>\n",
       "      <th>gk_diving</th>\n",
       "      <th>gk_handling</th>\n",
       "      <th>gk_kicking</th>\n",
       "      <th>gk_positioning</th>\n",
       "      <th>gk_reflexes</th>\n",
       "    </tr>\n",
       "  </thead>\n",
       "  <tbody>\n",
       "    <tr>\n",
       "      <th>0</th>\n",
       "      <td>1</td>\n",
       "      <td>218353</td>\n",
       "      <td>505942</td>\n",
       "      <td>2016-02-18 00:00:00</td>\n",
       "      <td>67.0</td>\n",
       "      <td>71.0</td>\n",
       "      <td>right</td>\n",
       "      <td>medium</td>\n",
       "      <td>medium</td>\n",
       "      <td>49.0</td>\n",
       "      <td>...</td>\n",
       "      <td>54.0</td>\n",
       "      <td>48.0</td>\n",
       "      <td>65.0</td>\n",
       "      <td>69.0</td>\n",
       "      <td>69.0</td>\n",
       "      <td>6.0</td>\n",
       "      <td>11.0</td>\n",
       "      <td>10.0</td>\n",
       "      <td>8.0</td>\n",
       "      <td>8.0</td>\n",
       "    </tr>\n",
       "    <tr>\n",
       "      <th>1</th>\n",
       "      <td>2</td>\n",
       "      <td>218353</td>\n",
       "      <td>505942</td>\n",
       "      <td>2015-11-19 00:00:00</td>\n",
       "      <td>67.0</td>\n",
       "      <td>71.0</td>\n",
       "      <td>right</td>\n",
       "      <td>medium</td>\n",
       "      <td>medium</td>\n",
       "      <td>49.0</td>\n",
       "      <td>...</td>\n",
       "      <td>54.0</td>\n",
       "      <td>48.0</td>\n",
       "      <td>65.0</td>\n",
       "      <td>69.0</td>\n",
       "      <td>69.0</td>\n",
       "      <td>6.0</td>\n",
       "      <td>11.0</td>\n",
       "      <td>10.0</td>\n",
       "      <td>8.0</td>\n",
       "      <td>8.0</td>\n",
       "    </tr>\n",
       "    <tr>\n",
       "      <th>2</th>\n",
       "      <td>3</td>\n",
       "      <td>218353</td>\n",
       "      <td>505942</td>\n",
       "      <td>2015-09-21 00:00:00</td>\n",
       "      <td>62.0</td>\n",
       "      <td>66.0</td>\n",
       "      <td>right</td>\n",
       "      <td>medium</td>\n",
       "      <td>medium</td>\n",
       "      <td>49.0</td>\n",
       "      <td>...</td>\n",
       "      <td>54.0</td>\n",
       "      <td>48.0</td>\n",
       "      <td>65.0</td>\n",
       "      <td>66.0</td>\n",
       "      <td>69.0</td>\n",
       "      <td>6.0</td>\n",
       "      <td>11.0</td>\n",
       "      <td>10.0</td>\n",
       "      <td>8.0</td>\n",
       "      <td>8.0</td>\n",
       "    </tr>\n",
       "    <tr>\n",
       "      <th>3</th>\n",
       "      <td>4</td>\n",
       "      <td>218353</td>\n",
       "      <td>505942</td>\n",
       "      <td>2015-03-20 00:00:00</td>\n",
       "      <td>61.0</td>\n",
       "      <td>65.0</td>\n",
       "      <td>right</td>\n",
       "      <td>medium</td>\n",
       "      <td>medium</td>\n",
       "      <td>48.0</td>\n",
       "      <td>...</td>\n",
       "      <td>53.0</td>\n",
       "      <td>47.0</td>\n",
       "      <td>62.0</td>\n",
       "      <td>63.0</td>\n",
       "      <td>66.0</td>\n",
       "      <td>5.0</td>\n",
       "      <td>10.0</td>\n",
       "      <td>9.0</td>\n",
       "      <td>7.0</td>\n",
       "      <td>7.0</td>\n",
       "    </tr>\n",
       "    <tr>\n",
       "      <th>4</th>\n",
       "      <td>5</td>\n",
       "      <td>218353</td>\n",
       "      <td>505942</td>\n",
       "      <td>2007-02-22 00:00:00</td>\n",
       "      <td>61.0</td>\n",
       "      <td>65.0</td>\n",
       "      <td>right</td>\n",
       "      <td>medium</td>\n",
       "      <td>medium</td>\n",
       "      <td>48.0</td>\n",
       "      <td>...</td>\n",
       "      <td>53.0</td>\n",
       "      <td>47.0</td>\n",
       "      <td>62.0</td>\n",
       "      <td>63.0</td>\n",
       "      <td>66.0</td>\n",
       "      <td>5.0</td>\n",
       "      <td>10.0</td>\n",
       "      <td>9.0</td>\n",
       "      <td>7.0</td>\n",
       "      <td>7.0</td>\n",
       "    </tr>\n",
       "  </tbody>\n",
       "</table>\n",
       "<p>5 rows × 42 columns</p>\n",
       "</div>"
      ],
      "text/plain": [
       "   id  player_fifa_api_id  player_api_id                 date  overall_rating  \\\n",
       "0   1              218353         505942  2016-02-18 00:00:00            67.0   \n",
       "1   2              218353         505942  2015-11-19 00:00:00            67.0   \n",
       "2   3              218353         505942  2015-09-21 00:00:00            62.0   \n",
       "3   4              218353         505942  2015-03-20 00:00:00            61.0   \n",
       "4   5              218353         505942  2007-02-22 00:00:00            61.0   \n",
       "\n",
       "   potential preferred_foot attacking_work_rate defensive_work_rate  crossing  \\\n",
       "0       71.0          right              medium              medium      49.0   \n",
       "1       71.0          right              medium              medium      49.0   \n",
       "2       66.0          right              medium              medium      49.0   \n",
       "3       65.0          right              medium              medium      48.0   \n",
       "4       65.0          right              medium              medium      48.0   \n",
       "\n",
       "   ...  vision  penalties  marking  standing_tackle  sliding_tackle  \\\n",
       "0  ...    54.0       48.0     65.0             69.0            69.0   \n",
       "1  ...    54.0       48.0     65.0             69.0            69.0   \n",
       "2  ...    54.0       48.0     65.0             66.0            69.0   \n",
       "3  ...    53.0       47.0     62.0             63.0            66.0   \n",
       "4  ...    53.0       47.0     62.0             63.0            66.0   \n",
       "\n",
       "   gk_diving  gk_handling  gk_kicking  gk_positioning  gk_reflexes  \n",
       "0        6.0         11.0        10.0             8.0          8.0  \n",
       "1        6.0         11.0        10.0             8.0          8.0  \n",
       "2        6.0         11.0        10.0             8.0          8.0  \n",
       "3        5.0         10.0         9.0             7.0          7.0  \n",
       "4        5.0         10.0         9.0             7.0          7.0  \n",
       "\n",
       "[5 rows x 42 columns]"
      ]
     },
     "execution_count": 272,
     "metadata": {},
     "output_type": "execute_result"
    }
   ],
   "source": [
    "df.head()#Check head "
   ]
  },
  {
   "cell_type": "code",
   "execution_count": 273,
   "metadata": {},
   "outputs": [
    {
     "data": {
      "text/html": [
       "<div>\n",
       "<style scoped>\n",
       "    .dataframe tbody tr th:only-of-type {\n",
       "        vertical-align: middle;\n",
       "    }\n",
       "\n",
       "    .dataframe tbody tr th {\n",
       "        vertical-align: top;\n",
       "    }\n",
       "\n",
       "    .dataframe thead th {\n",
       "        text-align: right;\n",
       "    }\n",
       "</style>\n",
       "<table border=\"1\" class=\"dataframe\">\n",
       "  <thead>\n",
       "    <tr style=\"text-align: right;\">\n",
       "      <th></th>\n",
       "      <th>id</th>\n",
       "      <th>player_fifa_api_id</th>\n",
       "      <th>player_api_id</th>\n",
       "      <th>date</th>\n",
       "      <th>overall_rating</th>\n",
       "      <th>potential</th>\n",
       "      <th>preferred_foot</th>\n",
       "      <th>attacking_work_rate</th>\n",
       "      <th>defensive_work_rate</th>\n",
       "      <th>crossing</th>\n",
       "      <th>...</th>\n",
       "      <th>vision</th>\n",
       "      <th>penalties</th>\n",
       "      <th>marking</th>\n",
       "      <th>standing_tackle</th>\n",
       "      <th>sliding_tackle</th>\n",
       "      <th>gk_diving</th>\n",
       "      <th>gk_handling</th>\n",
       "      <th>gk_kicking</th>\n",
       "      <th>gk_positioning</th>\n",
       "      <th>gk_reflexes</th>\n",
       "    </tr>\n",
       "  </thead>\n",
       "  <tbody>\n",
       "    <tr>\n",
       "      <th>183973</th>\n",
       "      <td>183974</td>\n",
       "      <td>102359</td>\n",
       "      <td>39902</td>\n",
       "      <td>2009-08-30 00:00:00</td>\n",
       "      <td>83.0</td>\n",
       "      <td>85.0</td>\n",
       "      <td>right</td>\n",
       "      <td>medium</td>\n",
       "      <td>low</td>\n",
       "      <td>84.0</td>\n",
       "      <td>...</td>\n",
       "      <td>88.0</td>\n",
       "      <td>83.0</td>\n",
       "      <td>22.0</td>\n",
       "      <td>31.0</td>\n",
       "      <td>30.0</td>\n",
       "      <td>9.0</td>\n",
       "      <td>20.0</td>\n",
       "      <td>84.0</td>\n",
       "      <td>20.0</td>\n",
       "      <td>20.0</td>\n",
       "    </tr>\n",
       "    <tr>\n",
       "      <th>183974</th>\n",
       "      <td>183975</td>\n",
       "      <td>102359</td>\n",
       "      <td>39902</td>\n",
       "      <td>2009-02-22 00:00:00</td>\n",
       "      <td>78.0</td>\n",
       "      <td>80.0</td>\n",
       "      <td>right</td>\n",
       "      <td>medium</td>\n",
       "      <td>low</td>\n",
       "      <td>74.0</td>\n",
       "      <td>...</td>\n",
       "      <td>88.0</td>\n",
       "      <td>70.0</td>\n",
       "      <td>32.0</td>\n",
       "      <td>31.0</td>\n",
       "      <td>30.0</td>\n",
       "      <td>9.0</td>\n",
       "      <td>20.0</td>\n",
       "      <td>73.0</td>\n",
       "      <td>20.0</td>\n",
       "      <td>20.0</td>\n",
       "    </tr>\n",
       "    <tr>\n",
       "      <th>183975</th>\n",
       "      <td>183976</td>\n",
       "      <td>102359</td>\n",
       "      <td>39902</td>\n",
       "      <td>2008-08-30 00:00:00</td>\n",
       "      <td>77.0</td>\n",
       "      <td>80.0</td>\n",
       "      <td>right</td>\n",
       "      <td>medium</td>\n",
       "      <td>low</td>\n",
       "      <td>74.0</td>\n",
       "      <td>...</td>\n",
       "      <td>88.0</td>\n",
       "      <td>70.0</td>\n",
       "      <td>32.0</td>\n",
       "      <td>31.0</td>\n",
       "      <td>30.0</td>\n",
       "      <td>9.0</td>\n",
       "      <td>20.0</td>\n",
       "      <td>73.0</td>\n",
       "      <td>20.0</td>\n",
       "      <td>20.0</td>\n",
       "    </tr>\n",
       "    <tr>\n",
       "      <th>183976</th>\n",
       "      <td>183977</td>\n",
       "      <td>102359</td>\n",
       "      <td>39902</td>\n",
       "      <td>2007-08-30 00:00:00</td>\n",
       "      <td>78.0</td>\n",
       "      <td>81.0</td>\n",
       "      <td>right</td>\n",
       "      <td>medium</td>\n",
       "      <td>low</td>\n",
       "      <td>74.0</td>\n",
       "      <td>...</td>\n",
       "      <td>88.0</td>\n",
       "      <td>53.0</td>\n",
       "      <td>28.0</td>\n",
       "      <td>32.0</td>\n",
       "      <td>30.0</td>\n",
       "      <td>9.0</td>\n",
       "      <td>20.0</td>\n",
       "      <td>73.0</td>\n",
       "      <td>20.0</td>\n",
       "      <td>20.0</td>\n",
       "    </tr>\n",
       "    <tr>\n",
       "      <th>183977</th>\n",
       "      <td>183978</td>\n",
       "      <td>102359</td>\n",
       "      <td>39902</td>\n",
       "      <td>2007-02-22 00:00:00</td>\n",
       "      <td>80.0</td>\n",
       "      <td>81.0</td>\n",
       "      <td>right</td>\n",
       "      <td>medium</td>\n",
       "      <td>low</td>\n",
       "      <td>74.0</td>\n",
       "      <td>...</td>\n",
       "      <td>88.0</td>\n",
       "      <td>53.0</td>\n",
       "      <td>38.0</td>\n",
       "      <td>32.0</td>\n",
       "      <td>30.0</td>\n",
       "      <td>9.0</td>\n",
       "      <td>9.0</td>\n",
       "      <td>78.0</td>\n",
       "      <td>7.0</td>\n",
       "      <td>15.0</td>\n",
       "    </tr>\n",
       "  </tbody>\n",
       "</table>\n",
       "<p>5 rows × 42 columns</p>\n",
       "</div>"
      ],
      "text/plain": [
       "            id  player_fifa_api_id  player_api_id                 date  \\\n",
       "183973  183974              102359          39902  2009-08-30 00:00:00   \n",
       "183974  183975              102359          39902  2009-02-22 00:00:00   \n",
       "183975  183976              102359          39902  2008-08-30 00:00:00   \n",
       "183976  183977              102359          39902  2007-08-30 00:00:00   \n",
       "183977  183978              102359          39902  2007-02-22 00:00:00   \n",
       "\n",
       "        overall_rating  potential preferred_foot attacking_work_rate  \\\n",
       "183973            83.0       85.0          right              medium   \n",
       "183974            78.0       80.0          right              medium   \n",
       "183975            77.0       80.0          right              medium   \n",
       "183976            78.0       81.0          right              medium   \n",
       "183977            80.0       81.0          right              medium   \n",
       "\n",
       "       defensive_work_rate  crossing  ...  vision  penalties  marking  \\\n",
       "183973                 low      84.0  ...    88.0       83.0     22.0   \n",
       "183974                 low      74.0  ...    88.0       70.0     32.0   \n",
       "183975                 low      74.0  ...    88.0       70.0     32.0   \n",
       "183976                 low      74.0  ...    88.0       53.0     28.0   \n",
       "183977                 low      74.0  ...    88.0       53.0     38.0   \n",
       "\n",
       "        standing_tackle  sliding_tackle  gk_diving  gk_handling  gk_kicking  \\\n",
       "183973             31.0            30.0        9.0         20.0        84.0   \n",
       "183974             31.0            30.0        9.0         20.0        73.0   \n",
       "183975             31.0            30.0        9.0         20.0        73.0   \n",
       "183976             32.0            30.0        9.0         20.0        73.0   \n",
       "183977             32.0            30.0        9.0          9.0        78.0   \n",
       "\n",
       "        gk_positioning  gk_reflexes  \n",
       "183973            20.0         20.0  \n",
       "183974            20.0         20.0  \n",
       "183975            20.0         20.0  \n",
       "183976            20.0         20.0  \n",
       "183977             7.0         15.0  \n",
       "\n",
       "[5 rows x 42 columns]"
      ]
     },
     "execution_count": 273,
     "metadata": {},
     "output_type": "execute_result"
    }
   ],
   "source": [
    "df.tail()#check tail"
   ]
  },
  {
   "cell_type": "code",
   "execution_count": 274,
   "metadata": {},
   "outputs": [
    {
     "data": {
      "text/html": [
       "<div>\n",
       "<style scoped>\n",
       "    .dataframe tbody tr th:only-of-type {\n",
       "        vertical-align: middle;\n",
       "    }\n",
       "\n",
       "    .dataframe tbody tr th {\n",
       "        vertical-align: top;\n",
       "    }\n",
       "\n",
       "    .dataframe thead th {\n",
       "        text-align: right;\n",
       "    }\n",
       "</style>\n",
       "<table border=\"1\" class=\"dataframe\">\n",
       "  <thead>\n",
       "    <tr style=\"text-align: right;\">\n",
       "      <th></th>\n",
       "      <th>id</th>\n",
       "      <th>player_fifa_api_id</th>\n",
       "      <th>player_api_id</th>\n",
       "      <th>overall_rating</th>\n",
       "      <th>potential</th>\n",
       "      <th>crossing</th>\n",
       "      <th>finishing</th>\n",
       "      <th>heading_accuracy</th>\n",
       "      <th>short_passing</th>\n",
       "      <th>volleys</th>\n",
       "      <th>...</th>\n",
       "      <th>vision</th>\n",
       "      <th>penalties</th>\n",
       "      <th>marking</th>\n",
       "      <th>standing_tackle</th>\n",
       "      <th>sliding_tackle</th>\n",
       "      <th>gk_diving</th>\n",
       "      <th>gk_handling</th>\n",
       "      <th>gk_kicking</th>\n",
       "      <th>gk_positioning</th>\n",
       "      <th>gk_reflexes</th>\n",
       "    </tr>\n",
       "  </thead>\n",
       "  <tbody>\n",
       "    <tr>\n",
       "      <th>count</th>\n",
       "      <td>183978.00000</td>\n",
       "      <td>183978.000000</td>\n",
       "      <td>183978.000000</td>\n",
       "      <td>183142.000000</td>\n",
       "      <td>183142.000000</td>\n",
       "      <td>183142.000000</td>\n",
       "      <td>183142.000000</td>\n",
       "      <td>183142.000000</td>\n",
       "      <td>183142.000000</td>\n",
       "      <td>181265.000000</td>\n",
       "      <td>...</td>\n",
       "      <td>181265.000000</td>\n",
       "      <td>183142.000000</td>\n",
       "      <td>183142.000000</td>\n",
       "      <td>183142.000000</td>\n",
       "      <td>181265.000000</td>\n",
       "      <td>183142.000000</td>\n",
       "      <td>183142.000000</td>\n",
       "      <td>183142.000000</td>\n",
       "      <td>183142.000000</td>\n",
       "      <td>183142.000000</td>\n",
       "    </tr>\n",
       "    <tr>\n",
       "      <th>mean</th>\n",
       "      <td>91989.50000</td>\n",
       "      <td>165671.524291</td>\n",
       "      <td>135900.617324</td>\n",
       "      <td>68.600015</td>\n",
       "      <td>73.460353</td>\n",
       "      <td>55.086883</td>\n",
       "      <td>49.921078</td>\n",
       "      <td>57.266023</td>\n",
       "      <td>62.429672</td>\n",
       "      <td>49.468436</td>\n",
       "      <td>...</td>\n",
       "      <td>57.873550</td>\n",
       "      <td>55.003986</td>\n",
       "      <td>46.772242</td>\n",
       "      <td>50.351257</td>\n",
       "      <td>48.001462</td>\n",
       "      <td>14.704393</td>\n",
       "      <td>16.063612</td>\n",
       "      <td>20.998362</td>\n",
       "      <td>16.132154</td>\n",
       "      <td>16.441439</td>\n",
       "    </tr>\n",
       "    <tr>\n",
       "      <th>std</th>\n",
       "      <td>53110.01825</td>\n",
       "      <td>53851.094769</td>\n",
       "      <td>136927.840510</td>\n",
       "      <td>7.041139</td>\n",
       "      <td>6.592271</td>\n",
       "      <td>17.242135</td>\n",
       "      <td>19.038705</td>\n",
       "      <td>16.488905</td>\n",
       "      <td>14.194068</td>\n",
       "      <td>18.256618</td>\n",
       "      <td>...</td>\n",
       "      <td>15.144086</td>\n",
       "      <td>15.546519</td>\n",
       "      <td>21.227667</td>\n",
       "      <td>21.483706</td>\n",
       "      <td>21.598778</td>\n",
       "      <td>16.865467</td>\n",
       "      <td>15.867382</td>\n",
       "      <td>21.452980</td>\n",
       "      <td>16.099175</td>\n",
       "      <td>17.198155</td>\n",
       "    </tr>\n",
       "    <tr>\n",
       "      <th>min</th>\n",
       "      <td>1.00000</td>\n",
       "      <td>2.000000</td>\n",
       "      <td>2625.000000</td>\n",
       "      <td>33.000000</td>\n",
       "      <td>39.000000</td>\n",
       "      <td>1.000000</td>\n",
       "      <td>1.000000</td>\n",
       "      <td>1.000000</td>\n",
       "      <td>3.000000</td>\n",
       "      <td>1.000000</td>\n",
       "      <td>...</td>\n",
       "      <td>1.000000</td>\n",
       "      <td>2.000000</td>\n",
       "      <td>1.000000</td>\n",
       "      <td>1.000000</td>\n",
       "      <td>2.000000</td>\n",
       "      <td>1.000000</td>\n",
       "      <td>1.000000</td>\n",
       "      <td>1.000000</td>\n",
       "      <td>1.000000</td>\n",
       "      <td>1.000000</td>\n",
       "    </tr>\n",
       "    <tr>\n",
       "      <th>25%</th>\n",
       "      <td>45995.25000</td>\n",
       "      <td>155798.000000</td>\n",
       "      <td>34763.000000</td>\n",
       "      <td>64.000000</td>\n",
       "      <td>69.000000</td>\n",
       "      <td>45.000000</td>\n",
       "      <td>34.000000</td>\n",
       "      <td>49.000000</td>\n",
       "      <td>57.000000</td>\n",
       "      <td>35.000000</td>\n",
       "      <td>...</td>\n",
       "      <td>49.000000</td>\n",
       "      <td>45.000000</td>\n",
       "      <td>25.000000</td>\n",
       "      <td>29.000000</td>\n",
       "      <td>25.000000</td>\n",
       "      <td>7.000000</td>\n",
       "      <td>8.000000</td>\n",
       "      <td>8.000000</td>\n",
       "      <td>8.000000</td>\n",
       "      <td>8.000000</td>\n",
       "    </tr>\n",
       "    <tr>\n",
       "      <th>50%</th>\n",
       "      <td>91989.50000</td>\n",
       "      <td>183488.000000</td>\n",
       "      <td>77741.000000</td>\n",
       "      <td>69.000000</td>\n",
       "      <td>74.000000</td>\n",
       "      <td>59.000000</td>\n",
       "      <td>53.000000</td>\n",
       "      <td>60.000000</td>\n",
       "      <td>65.000000</td>\n",
       "      <td>52.000000</td>\n",
       "      <td>...</td>\n",
       "      <td>60.000000</td>\n",
       "      <td>57.000000</td>\n",
       "      <td>50.000000</td>\n",
       "      <td>56.000000</td>\n",
       "      <td>53.000000</td>\n",
       "      <td>10.000000</td>\n",
       "      <td>11.000000</td>\n",
       "      <td>12.000000</td>\n",
       "      <td>11.000000</td>\n",
       "      <td>11.000000</td>\n",
       "    </tr>\n",
       "    <tr>\n",
       "      <th>75%</th>\n",
       "      <td>137983.75000</td>\n",
       "      <td>199848.000000</td>\n",
       "      <td>191080.000000</td>\n",
       "      <td>73.000000</td>\n",
       "      <td>78.000000</td>\n",
       "      <td>68.000000</td>\n",
       "      <td>65.000000</td>\n",
       "      <td>68.000000</td>\n",
       "      <td>72.000000</td>\n",
       "      <td>64.000000</td>\n",
       "      <td>...</td>\n",
       "      <td>69.000000</td>\n",
       "      <td>67.000000</td>\n",
       "      <td>66.000000</td>\n",
       "      <td>69.000000</td>\n",
       "      <td>67.000000</td>\n",
       "      <td>13.000000</td>\n",
       "      <td>15.000000</td>\n",
       "      <td>15.000000</td>\n",
       "      <td>15.000000</td>\n",
       "      <td>15.000000</td>\n",
       "    </tr>\n",
       "    <tr>\n",
       "      <th>max</th>\n",
       "      <td>183978.00000</td>\n",
       "      <td>234141.000000</td>\n",
       "      <td>750584.000000</td>\n",
       "      <td>94.000000</td>\n",
       "      <td>97.000000</td>\n",
       "      <td>95.000000</td>\n",
       "      <td>97.000000</td>\n",
       "      <td>98.000000</td>\n",
       "      <td>97.000000</td>\n",
       "      <td>93.000000</td>\n",
       "      <td>...</td>\n",
       "      <td>97.000000</td>\n",
       "      <td>96.000000</td>\n",
       "      <td>96.000000</td>\n",
       "      <td>95.000000</td>\n",
       "      <td>95.000000</td>\n",
       "      <td>94.000000</td>\n",
       "      <td>93.000000</td>\n",
       "      <td>97.000000</td>\n",
       "      <td>96.000000</td>\n",
       "      <td>96.000000</td>\n",
       "    </tr>\n",
       "  </tbody>\n",
       "</table>\n",
       "<p>8 rows × 38 columns</p>\n",
       "</div>"
      ],
      "text/plain": [
       "                 id  player_fifa_api_id  player_api_id  overall_rating  \\\n",
       "count  183978.00000       183978.000000  183978.000000   183142.000000   \n",
       "mean    91989.50000       165671.524291  135900.617324       68.600015   \n",
       "std     53110.01825        53851.094769  136927.840510        7.041139   \n",
       "min         1.00000            2.000000    2625.000000       33.000000   \n",
       "25%     45995.25000       155798.000000   34763.000000       64.000000   \n",
       "50%     91989.50000       183488.000000   77741.000000       69.000000   \n",
       "75%    137983.75000       199848.000000  191080.000000       73.000000   \n",
       "max    183978.00000       234141.000000  750584.000000       94.000000   \n",
       "\n",
       "           potential       crossing      finishing  heading_accuracy  \\\n",
       "count  183142.000000  183142.000000  183142.000000     183142.000000   \n",
       "mean       73.460353      55.086883      49.921078         57.266023   \n",
       "std         6.592271      17.242135      19.038705         16.488905   \n",
       "min        39.000000       1.000000       1.000000          1.000000   \n",
       "25%        69.000000      45.000000      34.000000         49.000000   \n",
       "50%        74.000000      59.000000      53.000000         60.000000   \n",
       "75%        78.000000      68.000000      65.000000         68.000000   \n",
       "max        97.000000      95.000000      97.000000         98.000000   \n",
       "\n",
       "       short_passing        volleys  ...         vision      penalties  \\\n",
       "count  183142.000000  181265.000000  ...  181265.000000  183142.000000   \n",
       "mean       62.429672      49.468436  ...      57.873550      55.003986   \n",
       "std        14.194068      18.256618  ...      15.144086      15.546519   \n",
       "min         3.000000       1.000000  ...       1.000000       2.000000   \n",
       "25%        57.000000      35.000000  ...      49.000000      45.000000   \n",
       "50%        65.000000      52.000000  ...      60.000000      57.000000   \n",
       "75%        72.000000      64.000000  ...      69.000000      67.000000   \n",
       "max        97.000000      93.000000  ...      97.000000      96.000000   \n",
       "\n",
       "             marking  standing_tackle  sliding_tackle      gk_diving  \\\n",
       "count  183142.000000    183142.000000   181265.000000  183142.000000   \n",
       "mean       46.772242        50.351257       48.001462      14.704393   \n",
       "std        21.227667        21.483706       21.598778      16.865467   \n",
       "min         1.000000         1.000000        2.000000       1.000000   \n",
       "25%        25.000000        29.000000       25.000000       7.000000   \n",
       "50%        50.000000        56.000000       53.000000      10.000000   \n",
       "75%        66.000000        69.000000       67.000000      13.000000   \n",
       "max        96.000000        95.000000       95.000000      94.000000   \n",
       "\n",
       "         gk_handling     gk_kicking  gk_positioning    gk_reflexes  \n",
       "count  183142.000000  183142.000000   183142.000000  183142.000000  \n",
       "mean       16.063612      20.998362       16.132154      16.441439  \n",
       "std        15.867382      21.452980       16.099175      17.198155  \n",
       "min         1.000000       1.000000        1.000000       1.000000  \n",
       "25%         8.000000       8.000000        8.000000       8.000000  \n",
       "50%        11.000000      12.000000       11.000000      11.000000  \n",
       "75%        15.000000      15.000000       15.000000      15.000000  \n",
       "max        93.000000      97.000000       96.000000      96.000000  \n",
       "\n",
       "[8 rows x 38 columns]"
      ]
     },
     "execution_count": 274,
     "metadata": {},
     "output_type": "execute_result"
    }
   ],
   "source": [
    "df.describe() #describe the data"
   ]
  },
  {
   "cell_type": "code",
   "execution_count": 275,
   "metadata": {},
   "outputs": [
    {
     "data": {
      "text/html": [
       "<div>\n",
       "<style scoped>\n",
       "    .dataframe tbody tr th:only-of-type {\n",
       "        vertical-align: middle;\n",
       "    }\n",
       "\n",
       "    .dataframe tbody tr th {\n",
       "        vertical-align: top;\n",
       "    }\n",
       "\n",
       "    .dataframe thead th {\n",
       "        text-align: right;\n",
       "    }\n",
       "</style>\n",
       "<table border=\"1\" class=\"dataframe\">\n",
       "  <thead>\n",
       "    <tr style=\"text-align: right;\">\n",
       "      <th></th>\n",
       "      <th>id</th>\n",
       "      <th>player_fifa_api_id</th>\n",
       "      <th>player_api_id</th>\n",
       "      <th>overall_rating</th>\n",
       "      <th>potential</th>\n",
       "      <th>crossing</th>\n",
       "      <th>finishing</th>\n",
       "      <th>heading_accuracy</th>\n",
       "      <th>short_passing</th>\n",
       "      <th>volleys</th>\n",
       "      <th>...</th>\n",
       "      <th>vision</th>\n",
       "      <th>penalties</th>\n",
       "      <th>marking</th>\n",
       "      <th>standing_tackle</th>\n",
       "      <th>sliding_tackle</th>\n",
       "      <th>gk_diving</th>\n",
       "      <th>gk_handling</th>\n",
       "      <th>gk_kicking</th>\n",
       "      <th>gk_positioning</th>\n",
       "      <th>gk_reflexes</th>\n",
       "    </tr>\n",
       "  </thead>\n",
       "  <tbody>\n",
       "    <tr>\n",
       "      <th>id</th>\n",
       "      <td>1.000000</td>\n",
       "      <td>0.003368</td>\n",
       "      <td>0.001987</td>\n",
       "      <td>-0.002875</td>\n",
       "      <td>0.001217</td>\n",
       "      <td>-0.019149</td>\n",
       "      <td>-0.007882</td>\n",
       "      <td>-0.011295</td>\n",
       "      <td>-0.006132</td>\n",
       "      <td>-0.006343</td>\n",
       "      <td>...</td>\n",
       "      <td>-0.007731</td>\n",
       "      <td>-0.010620</td>\n",
       "      <td>-0.009555</td>\n",
       "      <td>-0.012196</td>\n",
       "      <td>-0.010689</td>\n",
       "      <td>0.013980</td>\n",
       "      <td>0.010436</td>\n",
       "      <td>0.008645</td>\n",
       "      <td>0.013563</td>\n",
       "      <td>0.014152</td>\n",
       "    </tr>\n",
       "    <tr>\n",
       "      <th>player_fifa_api_id</th>\n",
       "      <td>0.003368</td>\n",
       "      <td>1.000000</td>\n",
       "      <td>0.554620</td>\n",
       "      <td>-0.274089</td>\n",
       "      <td>-0.027619</td>\n",
       "      <td>-0.064183</td>\n",
       "      <td>-0.028010</td>\n",
       "      <td>-0.104655</td>\n",
       "      <td>-0.064219</td>\n",
       "      <td>-0.087743</td>\n",
       "      <td>...</td>\n",
       "      <td>-0.164171</td>\n",
       "      <td>-0.182479</td>\n",
       "      <td>-0.077979</td>\n",
       "      <td>-0.073212</td>\n",
       "      <td>-0.054321</td>\n",
       "      <td>-0.091737</td>\n",
       "      <td>-0.143113</td>\n",
       "      <td>-0.267489</td>\n",
       "      <td>-0.145119</td>\n",
       "      <td>-0.135443</td>\n",
       "    </tr>\n",
       "    <tr>\n",
       "      <th>player_api_id</th>\n",
       "      <td>0.001987</td>\n",
       "      <td>0.554620</td>\n",
       "      <td>1.000000</td>\n",
       "      <td>-0.322389</td>\n",
       "      <td>0.010991</td>\n",
       "      <td>-0.110620</td>\n",
       "      <td>-0.060387</td>\n",
       "      <td>-0.129488</td>\n",
       "      <td>-0.087320</td>\n",
       "      <td>-0.130140</td>\n",
       "      <td>...</td>\n",
       "      <td>-0.188077</td>\n",
       "      <td>-0.164783</td>\n",
       "      <td>-0.089998</td>\n",
       "      <td>-0.086596</td>\n",
       "      <td>-0.072889</td>\n",
       "      <td>-0.071495</td>\n",
       "      <td>-0.128573</td>\n",
       "      <td>-0.238898</td>\n",
       "      <td>-0.128707</td>\n",
       "      <td>-0.124961</td>\n",
       "    </tr>\n",
       "    <tr>\n",
       "      <th>overall_rating</th>\n",
       "      <td>-0.002875</td>\n",
       "      <td>-0.274089</td>\n",
       "      <td>-0.322389</td>\n",
       "      <td>1.000000</td>\n",
       "      <td>0.766757</td>\n",
       "      <td>0.357699</td>\n",
       "      <td>0.329298</td>\n",
       "      <td>0.314099</td>\n",
       "      <td>0.458361</td>\n",
       "      <td>0.361470</td>\n",
       "      <td>...</td>\n",
       "      <td>0.431137</td>\n",
       "      <td>0.393189</td>\n",
       "      <td>0.133377</td>\n",
       "      <td>0.165349</td>\n",
       "      <td>0.128889</td>\n",
       "      <td>0.027976</td>\n",
       "      <td>0.004410</td>\n",
       "      <td>0.025682</td>\n",
       "      <td>0.005709</td>\n",
       "      <td>0.005687</td>\n",
       "    </tr>\n",
       "    <tr>\n",
       "      <th>potential</th>\n",
       "      <td>0.001217</td>\n",
       "      <td>-0.027619</td>\n",
       "      <td>0.010991</td>\n",
       "      <td>0.766757</td>\n",
       "      <td>1.000000</td>\n",
       "      <td>0.277755</td>\n",
       "      <td>0.286684</td>\n",
       "      <td>0.207706</td>\n",
       "      <td>0.382605</td>\n",
       "      <td>0.301302</td>\n",
       "      <td>...</td>\n",
       "      <td>0.378901</td>\n",
       "      <td>0.316414</td>\n",
       "      <td>0.055758</td>\n",
       "      <td>0.083822</td>\n",
       "      <td>0.063976</td>\n",
       "      <td>-0.011250</td>\n",
       "      <td>0.004742</td>\n",
       "      <td>0.089205</td>\n",
       "      <td>0.003406</td>\n",
       "      <td>0.003962</td>\n",
       "    </tr>\n",
       "    <tr>\n",
       "      <th>crossing</th>\n",
       "      <td>-0.019149</td>\n",
       "      <td>-0.064183</td>\n",
       "      <td>-0.110620</td>\n",
       "      <td>0.357699</td>\n",
       "      <td>0.277755</td>\n",
       "      <td>1.000000</td>\n",
       "      <td>0.576860</td>\n",
       "      <td>0.369747</td>\n",
       "      <td>0.790150</td>\n",
       "      <td>0.637891</td>\n",
       "      <td>...</td>\n",
       "      <td>0.693227</td>\n",
       "      <td>0.571473</td>\n",
       "      <td>0.235159</td>\n",
       "      <td>0.285265</td>\n",
       "      <td>0.275467</td>\n",
       "      <td>-0.603898</td>\n",
       "      <td>-0.595610</td>\n",
       "      <td>-0.349559</td>\n",
       "      <td>-0.597625</td>\n",
       "      <td>-0.601580</td>\n",
       "    </tr>\n",
       "    <tr>\n",
       "      <th>finishing</th>\n",
       "      <td>-0.007882</td>\n",
       "      <td>-0.028010</td>\n",
       "      <td>-0.060387</td>\n",
       "      <td>0.329298</td>\n",
       "      <td>0.286684</td>\n",
       "      <td>0.576860</td>\n",
       "      <td>1.000000</td>\n",
       "      <td>0.373536</td>\n",
       "      <td>0.579365</td>\n",
       "      <td>0.851339</td>\n",
       "      <td>...</td>\n",
       "      <td>0.651455</td>\n",
       "      <td>0.720388</td>\n",
       "      <td>-0.284603</td>\n",
       "      <td>-0.229699</td>\n",
       "      <td>-0.260890</td>\n",
       "      <td>-0.479162</td>\n",
       "      <td>-0.465099</td>\n",
       "      <td>-0.287681</td>\n",
       "      <td>-0.470673</td>\n",
       "      <td>-0.473173</td>\n",
       "    </tr>\n",
       "    <tr>\n",
       "      <th>heading_accuracy</th>\n",
       "      <td>-0.011295</td>\n",
       "      <td>-0.104655</td>\n",
       "      <td>-0.129488</td>\n",
       "      <td>0.314099</td>\n",
       "      <td>0.207706</td>\n",
       "      <td>0.369747</td>\n",
       "      <td>0.373536</td>\n",
       "      <td>1.000000</td>\n",
       "      <td>0.548700</td>\n",
       "      <td>0.391638</td>\n",
       "      <td>...</td>\n",
       "      <td>0.337184</td>\n",
       "      <td>0.431336</td>\n",
       "      <td>0.461543</td>\n",
       "      <td>0.480624</td>\n",
       "      <td>0.441769</td>\n",
       "      <td>-0.665365</td>\n",
       "      <td>-0.647876</td>\n",
       "      <td>-0.391540</td>\n",
       "      <td>-0.647738</td>\n",
       "      <td>-0.651373</td>\n",
       "    </tr>\n",
       "    <tr>\n",
       "      <th>short_passing</th>\n",
       "      <td>-0.006132</td>\n",
       "      <td>-0.064219</td>\n",
       "      <td>-0.087320</td>\n",
       "      <td>0.458361</td>\n",
       "      <td>0.382605</td>\n",
       "      <td>0.790150</td>\n",
       "      <td>0.579365</td>\n",
       "      <td>0.548700</td>\n",
       "      <td>1.000000</td>\n",
       "      <td>0.640253</td>\n",
       "      <td>...</td>\n",
       "      <td>0.765336</td>\n",
       "      <td>0.609537</td>\n",
       "      <td>0.350171</td>\n",
       "      <td>0.415678</td>\n",
       "      <td>0.380990</td>\n",
       "      <td>-0.693313</td>\n",
       "      <td>-0.689528</td>\n",
       "      <td>-0.413317</td>\n",
       "      <td>-0.690702</td>\n",
       "      <td>-0.692926</td>\n",
       "    </tr>\n",
       "    <tr>\n",
       "      <th>volleys</th>\n",
       "      <td>-0.006343</td>\n",
       "      <td>-0.087743</td>\n",
       "      <td>-0.130140</td>\n",
       "      <td>0.361470</td>\n",
       "      <td>0.301302</td>\n",
       "      <td>0.637891</td>\n",
       "      <td>0.851339</td>\n",
       "      <td>0.391638</td>\n",
       "      <td>0.640253</td>\n",
       "      <td>1.000000</td>\n",
       "      <td>...</td>\n",
       "      <td>0.689852</td>\n",
       "      <td>0.711830</td>\n",
       "      <td>-0.168972</td>\n",
       "      <td>-0.106926</td>\n",
       "      <td>-0.126398</td>\n",
       "      <td>-0.508823</td>\n",
       "      <td>-0.487015</td>\n",
       "      <td>-0.279030</td>\n",
       "      <td>-0.490968</td>\n",
       "      <td>-0.492979</td>\n",
       "    </tr>\n",
       "    <tr>\n",
       "      <th>dribbling</th>\n",
       "      <td>-0.013890</td>\n",
       "      <td>0.049822</td>\n",
       "      <td>0.018328</td>\n",
       "      <td>0.354324</td>\n",
       "      <td>0.338675</td>\n",
       "      <td>0.809061</td>\n",
       "      <td>0.784659</td>\n",
       "      <td>0.400494</td>\n",
       "      <td>0.787994</td>\n",
       "      <td>0.784366</td>\n",
       "      <td>...</td>\n",
       "      <td>0.732742</td>\n",
       "      <td>0.657698</td>\n",
       "      <td>0.004128</td>\n",
       "      <td>0.066958</td>\n",
       "      <td>0.046042</td>\n",
       "      <td>-0.652739</td>\n",
       "      <td>-0.650525</td>\n",
       "      <td>-0.427115</td>\n",
       "      <td>-0.653410</td>\n",
       "      <td>-0.656030</td>\n",
       "    </tr>\n",
       "    <tr>\n",
       "      <th>curve</th>\n",
       "      <td>-0.019309</td>\n",
       "      <td>-0.051394</td>\n",
       "      <td>-0.097913</td>\n",
       "      <td>0.357772</td>\n",
       "      <td>0.296073</td>\n",
       "      <td>0.789132</td>\n",
       "      <td>0.691201</td>\n",
       "      <td>0.321120</td>\n",
       "      <td>0.732295</td>\n",
       "      <td>0.752248</td>\n",
       "      <td>...</td>\n",
       "      <td>0.726943</td>\n",
       "      <td>0.648502</td>\n",
       "      <td>0.033682</td>\n",
       "      <td>0.095210</td>\n",
       "      <td>0.081215</td>\n",
       "      <td>-0.557165</td>\n",
       "      <td>-0.545760</td>\n",
       "      <td>-0.333487</td>\n",
       "      <td>-0.550659</td>\n",
       "      <td>-0.552295</td>\n",
       "    </tr>\n",
       "    <tr>\n",
       "      <th>free_kick_accuracy</th>\n",
       "      <td>-0.007608</td>\n",
       "      <td>-0.108611</td>\n",
       "      <td>-0.150856</td>\n",
       "      <td>0.349592</td>\n",
       "      <td>0.263358</td>\n",
       "      <td>0.707576</td>\n",
       "      <td>0.632248</td>\n",
       "      <td>0.307587</td>\n",
       "      <td>0.692461</td>\n",
       "      <td>0.682751</td>\n",
       "      <td>...</td>\n",
       "      <td>0.697390</td>\n",
       "      <td>0.665831</td>\n",
       "      <td>0.074506</td>\n",
       "      <td>0.134508</td>\n",
       "      <td>0.106969</td>\n",
       "      <td>-0.498800</td>\n",
       "      <td>-0.492137</td>\n",
       "      <td>-0.271076</td>\n",
       "      <td>-0.494807</td>\n",
       "      <td>-0.496332</td>\n",
       "    </tr>\n",
       "    <tr>\n",
       "      <th>long_passing</th>\n",
       "      <td>-0.007382</td>\n",
       "      <td>-0.112457</td>\n",
       "      <td>-0.138361</td>\n",
       "      <td>0.435018</td>\n",
       "      <td>0.343716</td>\n",
       "      <td>0.681959</td>\n",
       "      <td>0.337601</td>\n",
       "      <td>0.358634</td>\n",
       "      <td>0.797488</td>\n",
       "      <td>0.414123</td>\n",
       "      <td>...</td>\n",
       "      <td>0.669266</td>\n",
       "      <td>0.475955</td>\n",
       "      <td>0.439637</td>\n",
       "      <td>0.494073</td>\n",
       "      <td>0.462064</td>\n",
       "      <td>-0.456245</td>\n",
       "      <td>-0.459636</td>\n",
       "      <td>-0.248679</td>\n",
       "      <td>-0.461122</td>\n",
       "      <td>-0.462684</td>\n",
       "    </tr>\n",
       "    <tr>\n",
       "      <th>ball_control</th>\n",
       "      <td>-0.012919</td>\n",
       "      <td>-0.023496</td>\n",
       "      <td>-0.051248</td>\n",
       "      <td>0.444257</td>\n",
       "      <td>0.401368</td>\n",
       "      <td>0.807302</td>\n",
       "      <td>0.719709</td>\n",
       "      <td>0.551049</td>\n",
       "      <td>0.890042</td>\n",
       "      <td>0.749557</td>\n",
       "      <td>...</td>\n",
       "      <td>0.771934</td>\n",
       "      <td>0.680127</td>\n",
       "      <td>0.189450</td>\n",
       "      <td>0.253038</td>\n",
       "      <td>0.221744</td>\n",
       "      <td>-0.740928</td>\n",
       "      <td>-0.732483</td>\n",
       "      <td>-0.457276</td>\n",
       "      <td>-0.734933</td>\n",
       "      <td>-0.737894</td>\n",
       "    </tr>\n",
       "    <tr>\n",
       "      <th>acceleration</th>\n",
       "      <td>-0.007633</td>\n",
       "      <td>0.176840</td>\n",
       "      <td>0.103051</td>\n",
       "      <td>0.245655</td>\n",
       "      <td>0.338044</td>\n",
       "      <td>0.599012</td>\n",
       "      <td>0.528942</td>\n",
       "      <td>0.200077</td>\n",
       "      <td>0.503266</td>\n",
       "      <td>0.513250</td>\n",
       "      <td>...</td>\n",
       "      <td>0.469817</td>\n",
       "      <td>0.426251</td>\n",
       "      <td>-0.032821</td>\n",
       "      <td>-0.004885</td>\n",
       "      <td>0.001548</td>\n",
       "      <td>-0.481755</td>\n",
       "      <td>-0.466802</td>\n",
       "      <td>-0.277831</td>\n",
       "      <td>-0.469243</td>\n",
       "      <td>-0.470619</td>\n",
       "    </tr>\n",
       "    <tr>\n",
       "      <th>sprint_speed</th>\n",
       "      <td>-0.011118</td>\n",
       "      <td>0.176643</td>\n",
       "      <td>0.095866</td>\n",
       "      <td>0.254841</td>\n",
       "      <td>0.340054</td>\n",
       "      <td>0.579409</td>\n",
       "      <td>0.509506</td>\n",
       "      <td>0.267273</td>\n",
       "      <td>0.491380</td>\n",
       "      <td>0.494090</td>\n",
       "      <td>...</td>\n",
       "      <td>0.435370</td>\n",
       "      <td>0.409496</td>\n",
       "      <td>0.007192</td>\n",
       "      <td>0.035225</td>\n",
       "      <td>0.039963</td>\n",
       "      <td>-0.498410</td>\n",
       "      <td>-0.481658</td>\n",
       "      <td>-0.284312</td>\n",
       "      <td>-0.485935</td>\n",
       "      <td>-0.487353</td>\n",
       "    </tr>\n",
       "    <tr>\n",
       "      <th>agility</th>\n",
       "      <td>-0.000874</td>\n",
       "      <td>0.117608</td>\n",
       "      <td>0.027631</td>\n",
       "      <td>0.239896</td>\n",
       "      <td>0.292950</td>\n",
       "      <td>0.599248</td>\n",
       "      <td>0.554235</td>\n",
       "      <td>0.069220</td>\n",
       "      <td>0.510591</td>\n",
       "      <td>0.559756</td>\n",
       "      <td>...</td>\n",
       "      <td>0.557724</td>\n",
       "      <td>0.441314</td>\n",
       "      <td>-0.125824</td>\n",
       "      <td>-0.090370</td>\n",
       "      <td>-0.079926</td>\n",
       "      <td>-0.389065</td>\n",
       "      <td>-0.380678</td>\n",
       "      <td>-0.244120</td>\n",
       "      <td>-0.383405</td>\n",
       "      <td>-0.383880</td>\n",
       "    </tr>\n",
       "    <tr>\n",
       "      <th>reactions</th>\n",
       "      <td>-0.004240</td>\n",
       "      <td>-0.226008</td>\n",
       "      <td>-0.306165</td>\n",
       "      <td>0.769246</td>\n",
       "      <td>0.580235</td>\n",
       "      <td>0.384514</td>\n",
       "      <td>0.354473</td>\n",
       "      <td>0.295348</td>\n",
       "      <td>0.459289</td>\n",
       "      <td>0.397233</td>\n",
       "      <td>...</td>\n",
       "      <td>0.451580</td>\n",
       "      <td>0.388332</td>\n",
       "      <td>0.122671</td>\n",
       "      <td>0.158983</td>\n",
       "      <td>0.137405</td>\n",
       "      <td>-0.074663</td>\n",
       "      <td>-0.082319</td>\n",
       "      <td>-0.037231</td>\n",
       "      <td>-0.080716</td>\n",
       "      <td>-0.080628</td>\n",
       "    </tr>\n",
       "    <tr>\n",
       "      <th>balance</th>\n",
       "      <td>-0.009445</td>\n",
       "      <td>0.007664</td>\n",
       "      <td>0.021107</td>\n",
       "      <td>0.160364</td>\n",
       "      <td>0.201974</td>\n",
       "      <td>0.518518</td>\n",
       "      <td>0.394012</td>\n",
       "      <td>0.078953</td>\n",
       "      <td>0.461714</td>\n",
       "      <td>0.415812</td>\n",
       "      <td>...</td>\n",
       "      <td>0.507255</td>\n",
       "      <td>0.390728</td>\n",
       "      <td>0.037327</td>\n",
       "      <td>0.064914</td>\n",
       "      <td>0.076484</td>\n",
       "      <td>-0.386396</td>\n",
       "      <td>-0.362531</td>\n",
       "      <td>-0.183317</td>\n",
       "      <td>-0.364089</td>\n",
       "      <td>-0.366478</td>\n",
       "    </tr>\n",
       "    <tr>\n",
       "      <th>shot_power</th>\n",
       "      <td>-0.009725</td>\n",
       "      <td>-0.077579</td>\n",
       "      <td>-0.123198</td>\n",
       "      <td>0.427996</td>\n",
       "      <td>0.325697</td>\n",
       "      <td>0.656280</td>\n",
       "      <td>0.726982</td>\n",
       "      <td>0.540868</td>\n",
       "      <td>0.721767</td>\n",
       "      <td>0.746484</td>\n",
       "      <td>...</td>\n",
       "      <td>0.646519</td>\n",
       "      <td>0.675964</td>\n",
       "      <td>0.094142</td>\n",
       "      <td>0.155723</td>\n",
       "      <td>0.118562</td>\n",
       "      <td>-0.583264</td>\n",
       "      <td>-0.588412</td>\n",
       "      <td>-0.391854</td>\n",
       "      <td>-0.590893</td>\n",
       "      <td>-0.593044</td>\n",
       "    </tr>\n",
       "    <tr>\n",
       "      <th>jumping</th>\n",
       "      <td>-0.004160</td>\n",
       "      <td>-0.072638</td>\n",
       "      <td>-0.141016</td>\n",
       "      <td>0.259023</td>\n",
       "      <td>0.174819</td>\n",
       "      <td>0.021320</td>\n",
       "      <td>0.008953</td>\n",
       "      <td>0.286803</td>\n",
       "      <td>0.060146</td>\n",
       "      <td>0.023230</td>\n",
       "      <td>...</td>\n",
       "      <td>0.017487</td>\n",
       "      <td>0.058192</td>\n",
       "      <td>0.194730</td>\n",
       "      <td>0.189018</td>\n",
       "      <td>0.200060</td>\n",
       "      <td>-0.038875</td>\n",
       "      <td>-0.037841</td>\n",
       "      <td>-0.015678</td>\n",
       "      <td>-0.036587</td>\n",
       "      <td>-0.034682</td>\n",
       "    </tr>\n",
       "    <tr>\n",
       "      <th>stamina</th>\n",
       "      <td>-0.009816</td>\n",
       "      <td>0.012026</td>\n",
       "      <td>-0.108820</td>\n",
       "      <td>0.327456</td>\n",
       "      <td>0.260509</td>\n",
       "      <td>0.564360</td>\n",
       "      <td>0.346688</td>\n",
       "      <td>0.477466</td>\n",
       "      <td>0.609956</td>\n",
       "      <td>0.382649</td>\n",
       "      <td>...</td>\n",
       "      <td>0.505841</td>\n",
       "      <td>0.399226</td>\n",
       "      <td>0.417413</td>\n",
       "      <td>0.459517</td>\n",
       "      <td>0.437314</td>\n",
       "      <td>-0.552275</td>\n",
       "      <td>-0.541515</td>\n",
       "      <td>-0.312101</td>\n",
       "      <td>-0.540605</td>\n",
       "      <td>-0.546066</td>\n",
       "    </tr>\n",
       "    <tr>\n",
       "      <th>strength</th>\n",
       "      <td>-0.008251</td>\n",
       "      <td>-0.177467</td>\n",
       "      <td>-0.232937</td>\n",
       "      <td>0.318661</td>\n",
       "      <td>0.126931</td>\n",
       "      <td>-0.070291</td>\n",
       "      <td>-0.053048</td>\n",
       "      <td>0.493051</td>\n",
       "      <td>0.092084</td>\n",
       "      <td>-0.036108</td>\n",
       "      <td>...</td>\n",
       "      <td>-0.038313</td>\n",
       "      <td>0.061234</td>\n",
       "      <td>0.356062</td>\n",
       "      <td>0.366097</td>\n",
       "      <td>0.325115</td>\n",
       "      <td>-0.071098</td>\n",
       "      <td>-0.084165</td>\n",
       "      <td>-0.059220</td>\n",
       "      <td>-0.084935</td>\n",
       "      <td>-0.084306</td>\n",
       "    </tr>\n",
       "    <tr>\n",
       "      <th>long_shots</th>\n",
       "      <td>-0.010012</td>\n",
       "      <td>-0.067155</td>\n",
       "      <td>-0.117087</td>\n",
       "      <td>0.392382</td>\n",
       "      <td>0.312808</td>\n",
       "      <td>0.715925</td>\n",
       "      <td>0.806005</td>\n",
       "      <td>0.406758</td>\n",
       "      <td>0.728791</td>\n",
       "      <td>0.814433</td>\n",
       "      <td>...</td>\n",
       "      <td>0.729412</td>\n",
       "      <td>0.709788</td>\n",
       "      <td>-0.010694</td>\n",
       "      <td>0.055676</td>\n",
       "      <td>0.023979</td>\n",
       "      <td>-0.545338</td>\n",
       "      <td>-0.538998</td>\n",
       "      <td>-0.331453</td>\n",
       "      <td>-0.543093</td>\n",
       "      <td>-0.545155</td>\n",
       "    </tr>\n",
       "    <tr>\n",
       "      <th>aggression</th>\n",
       "      <td>-0.016650</td>\n",
       "      <td>-0.170696</td>\n",
       "      <td>-0.210959</td>\n",
       "      <td>0.323934</td>\n",
       "      <td>0.164815</td>\n",
       "      <td>0.323599</td>\n",
       "      <td>0.043714</td>\n",
       "      <td>0.575705</td>\n",
       "      <td>0.453783</td>\n",
       "      <td>0.127922</td>\n",
       "      <td>...</td>\n",
       "      <td>0.276827</td>\n",
       "      <td>0.220875</td>\n",
       "      <td>0.652373</td>\n",
       "      <td>0.681774</td>\n",
       "      <td>0.654854</td>\n",
       "      <td>-0.430933</td>\n",
       "      <td>-0.428458</td>\n",
       "      <td>-0.260976</td>\n",
       "      <td>-0.427067</td>\n",
       "      <td>-0.429931</td>\n",
       "    </tr>\n",
       "    <tr>\n",
       "      <th>interceptions</th>\n",
       "      <td>-0.007730</td>\n",
       "      <td>-0.178182</td>\n",
       "      <td>-0.188561</td>\n",
       "      <td>0.250370</td>\n",
       "      <td>0.165730</td>\n",
       "      <td>0.305952</td>\n",
       "      <td>-0.149366</td>\n",
       "      <td>0.452849</td>\n",
       "      <td>0.424288</td>\n",
       "      <td>-0.037604</td>\n",
       "      <td>...</td>\n",
       "      <td>0.234538</td>\n",
       "      <td>0.084772</td>\n",
       "      <td>0.830410</td>\n",
       "      <td>0.843279</td>\n",
       "      <td>0.824267</td>\n",
       "      <td>-0.372859</td>\n",
       "      <td>-0.330597</td>\n",
       "      <td>-0.075892</td>\n",
       "      <td>-0.325476</td>\n",
       "      <td>-0.330409</td>\n",
       "    </tr>\n",
       "    <tr>\n",
       "      <th>positioning</th>\n",
       "      <td>-0.014541</td>\n",
       "      <td>-0.086235</td>\n",
       "      <td>-0.107012</td>\n",
       "      <td>0.370019</td>\n",
       "      <td>0.327829</td>\n",
       "      <td>0.682113</td>\n",
       "      <td>0.798441</td>\n",
       "      <td>0.411554</td>\n",
       "      <td>0.677577</td>\n",
       "      <td>0.778337</td>\n",
       "      <td>...</td>\n",
       "      <td>0.740181</td>\n",
       "      <td>0.753417</td>\n",
       "      <td>-0.069373</td>\n",
       "      <td>-0.009582</td>\n",
       "      <td>-0.040733</td>\n",
       "      <td>-0.546138</td>\n",
       "      <td>-0.502906</td>\n",
       "      <td>-0.219447</td>\n",
       "      <td>-0.508506</td>\n",
       "      <td>-0.513326</td>\n",
       "    </tr>\n",
       "    <tr>\n",
       "      <th>vision</th>\n",
       "      <td>-0.007731</td>\n",
       "      <td>-0.164171</td>\n",
       "      <td>-0.188077</td>\n",
       "      <td>0.431137</td>\n",
       "      <td>0.378901</td>\n",
       "      <td>0.693227</td>\n",
       "      <td>0.651455</td>\n",
       "      <td>0.337184</td>\n",
       "      <td>0.765336</td>\n",
       "      <td>0.689852</td>\n",
       "      <td>...</td>\n",
       "      <td>1.000000</td>\n",
       "      <td>0.665433</td>\n",
       "      <td>0.081176</td>\n",
       "      <td>0.145766</td>\n",
       "      <td>0.119669</td>\n",
       "      <td>-0.502329</td>\n",
       "      <td>-0.461351</td>\n",
       "      <td>-0.199962</td>\n",
       "      <td>-0.464565</td>\n",
       "      <td>-0.470105</td>\n",
       "    </tr>\n",
       "    <tr>\n",
       "      <th>penalties</th>\n",
       "      <td>-0.010620</td>\n",
       "      <td>-0.182479</td>\n",
       "      <td>-0.164783</td>\n",
       "      <td>0.393189</td>\n",
       "      <td>0.316414</td>\n",
       "      <td>0.571473</td>\n",
       "      <td>0.720388</td>\n",
       "      <td>0.431336</td>\n",
       "      <td>0.609537</td>\n",
       "      <td>0.711830</td>\n",
       "      <td>...</td>\n",
       "      <td>0.665433</td>\n",
       "      <td>1.000000</td>\n",
       "      <td>-0.038495</td>\n",
       "      <td>0.009878</td>\n",
       "      <td>-0.028754</td>\n",
       "      <td>-0.466943</td>\n",
       "      <td>-0.429642</td>\n",
       "      <td>-0.173798</td>\n",
       "      <td>-0.434033</td>\n",
       "      <td>-0.438353</td>\n",
       "    </tr>\n",
       "    <tr>\n",
       "      <th>marking</th>\n",
       "      <td>-0.009555</td>\n",
       "      <td>-0.077979</td>\n",
       "      <td>-0.089998</td>\n",
       "      <td>0.133377</td>\n",
       "      <td>0.055758</td>\n",
       "      <td>0.235159</td>\n",
       "      <td>-0.284603</td>\n",
       "      <td>0.461543</td>\n",
       "      <td>0.350171</td>\n",
       "      <td>-0.168972</td>\n",
       "      <td>...</td>\n",
       "      <td>0.081176</td>\n",
       "      <td>-0.038495</td>\n",
       "      <td>1.000000</td>\n",
       "      <td>0.950134</td>\n",
       "      <td>0.937534</td>\n",
       "      <td>-0.382917</td>\n",
       "      <td>-0.375938</td>\n",
       "      <td>-0.193284</td>\n",
       "      <td>-0.370243</td>\n",
       "      <td>-0.372487</td>\n",
       "    </tr>\n",
       "    <tr>\n",
       "      <th>standing_tackle</th>\n",
       "      <td>-0.012196</td>\n",
       "      <td>-0.073212</td>\n",
       "      <td>-0.086596</td>\n",
       "      <td>0.165349</td>\n",
       "      <td>0.083822</td>\n",
       "      <td>0.285265</td>\n",
       "      <td>-0.229699</td>\n",
       "      <td>0.480624</td>\n",
       "      <td>0.415678</td>\n",
       "      <td>-0.106926</td>\n",
       "      <td>...</td>\n",
       "      <td>0.145766</td>\n",
       "      <td>0.009878</td>\n",
       "      <td>0.950134</td>\n",
       "      <td>1.000000</td>\n",
       "      <td>0.953104</td>\n",
       "      <td>-0.418815</td>\n",
       "      <td>-0.417249</td>\n",
       "      <td>-0.235825</td>\n",
       "      <td>-0.411793</td>\n",
       "      <td>-0.414898</td>\n",
       "    </tr>\n",
       "    <tr>\n",
       "      <th>sliding_tackle</th>\n",
       "      <td>-0.010689</td>\n",
       "      <td>-0.054321</td>\n",
       "      <td>-0.072889</td>\n",
       "      <td>0.128889</td>\n",
       "      <td>0.063976</td>\n",
       "      <td>0.275467</td>\n",
       "      <td>-0.260890</td>\n",
       "      <td>0.441769</td>\n",
       "      <td>0.380990</td>\n",
       "      <td>-0.126398</td>\n",
       "      <td>...</td>\n",
       "      <td>0.119669</td>\n",
       "      <td>-0.028754</td>\n",
       "      <td>0.937534</td>\n",
       "      <td>0.953104</td>\n",
       "      <td>1.000000</td>\n",
       "      <td>-0.400544</td>\n",
       "      <td>-0.392759</td>\n",
       "      <td>-0.212047</td>\n",
       "      <td>-0.387089</td>\n",
       "      <td>-0.389767</td>\n",
       "    </tr>\n",
       "    <tr>\n",
       "      <th>gk_diving</th>\n",
       "      <td>0.013980</td>\n",
       "      <td>-0.091737</td>\n",
       "      <td>-0.071495</td>\n",
       "      <td>0.027976</td>\n",
       "      <td>-0.011250</td>\n",
       "      <td>-0.603898</td>\n",
       "      <td>-0.479162</td>\n",
       "      <td>-0.665365</td>\n",
       "      <td>-0.693313</td>\n",
       "      <td>-0.508823</td>\n",
       "      <td>...</td>\n",
       "      <td>-0.502329</td>\n",
       "      <td>-0.466943</td>\n",
       "      <td>-0.382917</td>\n",
       "      <td>-0.418815</td>\n",
       "      <td>-0.400544</td>\n",
       "      <td>1.000000</td>\n",
       "      <td>0.925160</td>\n",
       "      <td>0.569396</td>\n",
       "      <td>0.926366</td>\n",
       "      <td>0.935209</td>\n",
       "    </tr>\n",
       "    <tr>\n",
       "      <th>gk_handling</th>\n",
       "      <td>0.010436</td>\n",
       "      <td>-0.143113</td>\n",
       "      <td>-0.128573</td>\n",
       "      <td>0.004410</td>\n",
       "      <td>0.004742</td>\n",
       "      <td>-0.595610</td>\n",
       "      <td>-0.465099</td>\n",
       "      <td>-0.647876</td>\n",
       "      <td>-0.689528</td>\n",
       "      <td>-0.487015</td>\n",
       "      <td>...</td>\n",
       "      <td>-0.461351</td>\n",
       "      <td>-0.429642</td>\n",
       "      <td>-0.375938</td>\n",
       "      <td>-0.417249</td>\n",
       "      <td>-0.392759</td>\n",
       "      <td>0.925160</td>\n",
       "      <td>1.000000</td>\n",
       "      <td>0.738640</td>\n",
       "      <td>0.966301</td>\n",
       "      <td>0.966326</td>\n",
       "    </tr>\n",
       "    <tr>\n",
       "      <th>gk_kicking</th>\n",
       "      <td>0.008645</td>\n",
       "      <td>-0.267489</td>\n",
       "      <td>-0.238898</td>\n",
       "      <td>0.025682</td>\n",
       "      <td>0.089205</td>\n",
       "      <td>-0.349559</td>\n",
       "      <td>-0.287681</td>\n",
       "      <td>-0.391540</td>\n",
       "      <td>-0.413317</td>\n",
       "      <td>-0.279030</td>\n",
       "      <td>...</td>\n",
       "      <td>-0.199962</td>\n",
       "      <td>-0.173798</td>\n",
       "      <td>-0.193284</td>\n",
       "      <td>-0.235825</td>\n",
       "      <td>-0.212047</td>\n",
       "      <td>0.569396</td>\n",
       "      <td>0.738640</td>\n",
       "      <td>1.000000</td>\n",
       "      <td>0.737625</td>\n",
       "      <td>0.730917</td>\n",
       "    </tr>\n",
       "    <tr>\n",
       "      <th>gk_positioning</th>\n",
       "      <td>0.013563</td>\n",
       "      <td>-0.145119</td>\n",
       "      <td>-0.128707</td>\n",
       "      <td>0.005709</td>\n",
       "      <td>0.003406</td>\n",
       "      <td>-0.597625</td>\n",
       "      <td>-0.470673</td>\n",
       "      <td>-0.647738</td>\n",
       "      <td>-0.690702</td>\n",
       "      <td>-0.490968</td>\n",
       "      <td>...</td>\n",
       "      <td>-0.464565</td>\n",
       "      <td>-0.434033</td>\n",
       "      <td>-0.370243</td>\n",
       "      <td>-0.411793</td>\n",
       "      <td>-0.387089</td>\n",
       "      <td>0.926366</td>\n",
       "      <td>0.966301</td>\n",
       "      <td>0.737625</td>\n",
       "      <td>1.000000</td>\n",
       "      <td>0.966711</td>\n",
       "    </tr>\n",
       "    <tr>\n",
       "      <th>gk_reflexes</th>\n",
       "      <td>0.014152</td>\n",
       "      <td>-0.135443</td>\n",
       "      <td>-0.124961</td>\n",
       "      <td>0.005687</td>\n",
       "      <td>0.003962</td>\n",
       "      <td>-0.601580</td>\n",
       "      <td>-0.473173</td>\n",
       "      <td>-0.651373</td>\n",
       "      <td>-0.692926</td>\n",
       "      <td>-0.492979</td>\n",
       "      <td>...</td>\n",
       "      <td>-0.470105</td>\n",
       "      <td>-0.438353</td>\n",
       "      <td>-0.372487</td>\n",
       "      <td>-0.414898</td>\n",
       "      <td>-0.389767</td>\n",
       "      <td>0.935209</td>\n",
       "      <td>0.966326</td>\n",
       "      <td>0.730917</td>\n",
       "      <td>0.966711</td>\n",
       "      <td>1.000000</td>\n",
       "    </tr>\n",
       "  </tbody>\n",
       "</table>\n",
       "<p>38 rows × 38 columns</p>\n",
       "</div>"
      ],
      "text/plain": [
       "                          id  player_fifa_api_id  player_api_id  \\\n",
       "id                  1.000000            0.003368       0.001987   \n",
       "player_fifa_api_id  0.003368            1.000000       0.554620   \n",
       "player_api_id       0.001987            0.554620       1.000000   \n",
       "overall_rating     -0.002875           -0.274089      -0.322389   \n",
       "potential           0.001217           -0.027619       0.010991   \n",
       "crossing           -0.019149           -0.064183      -0.110620   \n",
       "finishing          -0.007882           -0.028010      -0.060387   \n",
       "heading_accuracy   -0.011295           -0.104655      -0.129488   \n",
       "short_passing      -0.006132           -0.064219      -0.087320   \n",
       "volleys            -0.006343           -0.087743      -0.130140   \n",
       "dribbling          -0.013890            0.049822       0.018328   \n",
       "curve              -0.019309           -0.051394      -0.097913   \n",
       "free_kick_accuracy -0.007608           -0.108611      -0.150856   \n",
       "long_passing       -0.007382           -0.112457      -0.138361   \n",
       "ball_control       -0.012919           -0.023496      -0.051248   \n",
       "acceleration       -0.007633            0.176840       0.103051   \n",
       "sprint_speed       -0.011118            0.176643       0.095866   \n",
       "agility            -0.000874            0.117608       0.027631   \n",
       "reactions          -0.004240           -0.226008      -0.306165   \n",
       "balance            -0.009445            0.007664       0.021107   \n",
       "shot_power         -0.009725           -0.077579      -0.123198   \n",
       "jumping            -0.004160           -0.072638      -0.141016   \n",
       "stamina            -0.009816            0.012026      -0.108820   \n",
       "strength           -0.008251           -0.177467      -0.232937   \n",
       "long_shots         -0.010012           -0.067155      -0.117087   \n",
       "aggression         -0.016650           -0.170696      -0.210959   \n",
       "interceptions      -0.007730           -0.178182      -0.188561   \n",
       "positioning        -0.014541           -0.086235      -0.107012   \n",
       "vision             -0.007731           -0.164171      -0.188077   \n",
       "penalties          -0.010620           -0.182479      -0.164783   \n",
       "marking            -0.009555           -0.077979      -0.089998   \n",
       "standing_tackle    -0.012196           -0.073212      -0.086596   \n",
       "sliding_tackle     -0.010689           -0.054321      -0.072889   \n",
       "gk_diving           0.013980           -0.091737      -0.071495   \n",
       "gk_handling         0.010436           -0.143113      -0.128573   \n",
       "gk_kicking          0.008645           -0.267489      -0.238898   \n",
       "gk_positioning      0.013563           -0.145119      -0.128707   \n",
       "gk_reflexes         0.014152           -0.135443      -0.124961   \n",
       "\n",
       "                    overall_rating  potential  crossing  finishing  \\\n",
       "id                       -0.002875   0.001217 -0.019149  -0.007882   \n",
       "player_fifa_api_id       -0.274089  -0.027619 -0.064183  -0.028010   \n",
       "player_api_id            -0.322389   0.010991 -0.110620  -0.060387   \n",
       "overall_rating            1.000000   0.766757  0.357699   0.329298   \n",
       "potential                 0.766757   1.000000  0.277755   0.286684   \n",
       "crossing                  0.357699   0.277755  1.000000   0.576860   \n",
       "finishing                 0.329298   0.286684  0.576860   1.000000   \n",
       "heading_accuracy          0.314099   0.207706  0.369747   0.373536   \n",
       "short_passing             0.458361   0.382605  0.790150   0.579365   \n",
       "volleys                   0.361470   0.301302  0.637891   0.851339   \n",
       "dribbling                 0.354324   0.338675  0.809061   0.784659   \n",
       "curve                     0.357772   0.296073  0.789132   0.691201   \n",
       "free_kick_accuracy        0.349592   0.263358  0.707576   0.632248   \n",
       "long_passing              0.435018   0.343716  0.681959   0.337601   \n",
       "ball_control              0.444257   0.401368  0.807302   0.719709   \n",
       "acceleration              0.245655   0.338044  0.599012   0.528942   \n",
       "sprint_speed              0.254841   0.340054  0.579409   0.509506   \n",
       "agility                   0.239896   0.292950  0.599248   0.554235   \n",
       "reactions                 0.769246   0.580235  0.384514   0.354473   \n",
       "balance                   0.160364   0.201974  0.518518   0.394012   \n",
       "shot_power                0.427996   0.325697  0.656280   0.726982   \n",
       "jumping                   0.259023   0.174819  0.021320   0.008953   \n",
       "stamina                   0.327456   0.260509  0.564360   0.346688   \n",
       "strength                  0.318661   0.126931 -0.070291  -0.053048   \n",
       "long_shots                0.392382   0.312808  0.715925   0.806005   \n",
       "aggression                0.323934   0.164815  0.323599   0.043714   \n",
       "interceptions             0.250370   0.165730  0.305952  -0.149366   \n",
       "positioning               0.370019   0.327829  0.682113   0.798441   \n",
       "vision                    0.431137   0.378901  0.693227   0.651455   \n",
       "penalties                 0.393189   0.316414  0.571473   0.720388   \n",
       "marking                   0.133377   0.055758  0.235159  -0.284603   \n",
       "standing_tackle           0.165349   0.083822  0.285265  -0.229699   \n",
       "sliding_tackle            0.128889   0.063976  0.275467  -0.260890   \n",
       "gk_diving                 0.027976  -0.011250 -0.603898  -0.479162   \n",
       "gk_handling               0.004410   0.004742 -0.595610  -0.465099   \n",
       "gk_kicking                0.025682   0.089205 -0.349559  -0.287681   \n",
       "gk_positioning            0.005709   0.003406 -0.597625  -0.470673   \n",
       "gk_reflexes               0.005687   0.003962 -0.601580  -0.473173   \n",
       "\n",
       "                    heading_accuracy  short_passing   volleys  ...    vision  \\\n",
       "id                         -0.011295      -0.006132 -0.006343  ... -0.007731   \n",
       "player_fifa_api_id         -0.104655      -0.064219 -0.087743  ... -0.164171   \n",
       "player_api_id              -0.129488      -0.087320 -0.130140  ... -0.188077   \n",
       "overall_rating              0.314099       0.458361  0.361470  ...  0.431137   \n",
       "potential                   0.207706       0.382605  0.301302  ...  0.378901   \n",
       "crossing                    0.369747       0.790150  0.637891  ...  0.693227   \n",
       "finishing                   0.373536       0.579365  0.851339  ...  0.651455   \n",
       "heading_accuracy            1.000000       0.548700  0.391638  ...  0.337184   \n",
       "short_passing               0.548700       1.000000  0.640253  ...  0.765336   \n",
       "volleys                     0.391638       0.640253  1.000000  ...  0.689852   \n",
       "dribbling                   0.400494       0.787994  0.784366  ...  0.732742   \n",
       "curve                       0.321120       0.732295  0.752248  ...  0.726943   \n",
       "free_kick_accuracy          0.307587       0.692461  0.682751  ...  0.697390   \n",
       "long_passing                0.358634       0.797488  0.414123  ...  0.669266   \n",
       "ball_control                0.551049       0.890042  0.749557  ...  0.771934   \n",
       "acceleration                0.200077       0.503266  0.513250  ...  0.469817   \n",
       "sprint_speed                0.267273       0.491380  0.494090  ...  0.435370   \n",
       "agility                     0.069220       0.510591  0.559756  ...  0.557724   \n",
       "reactions                   0.295348       0.459289  0.397233  ...  0.451580   \n",
       "balance                     0.078953       0.461714  0.415812  ...  0.507255   \n",
       "shot_power                  0.540868       0.721767  0.746484  ...  0.646519   \n",
       "jumping                     0.286803       0.060146  0.023230  ...  0.017487   \n",
       "stamina                     0.477466       0.609956  0.382649  ...  0.505841   \n",
       "strength                    0.493051       0.092084 -0.036108  ... -0.038313   \n",
       "long_shots                  0.406758       0.728791  0.814433  ...  0.729412   \n",
       "aggression                  0.575705       0.453783  0.127922  ...  0.276827   \n",
       "interceptions               0.452849       0.424288 -0.037604  ...  0.234538   \n",
       "positioning                 0.411554       0.677577  0.778337  ...  0.740181   \n",
       "vision                      0.337184       0.765336  0.689852  ...  1.000000   \n",
       "penalties                   0.431336       0.609537  0.711830  ...  0.665433   \n",
       "marking                     0.461543       0.350171 -0.168972  ...  0.081176   \n",
       "standing_tackle             0.480624       0.415678 -0.106926  ...  0.145766   \n",
       "sliding_tackle              0.441769       0.380990 -0.126398  ...  0.119669   \n",
       "gk_diving                  -0.665365      -0.693313 -0.508823  ... -0.502329   \n",
       "gk_handling                -0.647876      -0.689528 -0.487015  ... -0.461351   \n",
       "gk_kicking                 -0.391540      -0.413317 -0.279030  ... -0.199962   \n",
       "gk_positioning             -0.647738      -0.690702 -0.490968  ... -0.464565   \n",
       "gk_reflexes                -0.651373      -0.692926 -0.492979  ... -0.470105   \n",
       "\n",
       "                    penalties   marking  standing_tackle  sliding_tackle  \\\n",
       "id                  -0.010620 -0.009555        -0.012196       -0.010689   \n",
       "player_fifa_api_id  -0.182479 -0.077979        -0.073212       -0.054321   \n",
       "player_api_id       -0.164783 -0.089998        -0.086596       -0.072889   \n",
       "overall_rating       0.393189  0.133377         0.165349        0.128889   \n",
       "potential            0.316414  0.055758         0.083822        0.063976   \n",
       "crossing             0.571473  0.235159         0.285265        0.275467   \n",
       "finishing            0.720388 -0.284603        -0.229699       -0.260890   \n",
       "heading_accuracy     0.431336  0.461543         0.480624        0.441769   \n",
       "short_passing        0.609537  0.350171         0.415678        0.380990   \n",
       "volleys              0.711830 -0.168972        -0.106926       -0.126398   \n",
       "dribbling            0.657698  0.004128         0.066958        0.046042   \n",
       "curve                0.648502  0.033682         0.095210        0.081215   \n",
       "free_kick_accuracy   0.665831  0.074506         0.134508        0.106969   \n",
       "long_passing         0.475955  0.439637         0.494073        0.462064   \n",
       "ball_control         0.680127  0.189450         0.253038        0.221744   \n",
       "acceleration         0.426251 -0.032821        -0.004885        0.001548   \n",
       "sprint_speed         0.409496  0.007192         0.035225        0.039963   \n",
       "agility              0.441314 -0.125824        -0.090370       -0.079926   \n",
       "reactions            0.388332  0.122671         0.158983        0.137405   \n",
       "balance              0.390728  0.037327         0.064914        0.076484   \n",
       "shot_power           0.675964  0.094142         0.155723        0.118562   \n",
       "jumping              0.058192  0.194730         0.189018        0.200060   \n",
       "stamina              0.399226  0.417413         0.459517        0.437314   \n",
       "strength             0.061234  0.356062         0.366097        0.325115   \n",
       "long_shots           0.709788 -0.010694         0.055676        0.023979   \n",
       "aggression           0.220875  0.652373         0.681774        0.654854   \n",
       "interceptions        0.084772  0.830410         0.843279        0.824267   \n",
       "positioning          0.753417 -0.069373        -0.009582       -0.040733   \n",
       "vision               0.665433  0.081176         0.145766        0.119669   \n",
       "penalties            1.000000 -0.038495         0.009878       -0.028754   \n",
       "marking             -0.038495  1.000000         0.950134        0.937534   \n",
       "standing_tackle      0.009878  0.950134         1.000000        0.953104   \n",
       "sliding_tackle      -0.028754  0.937534         0.953104        1.000000   \n",
       "gk_diving           -0.466943 -0.382917        -0.418815       -0.400544   \n",
       "gk_handling         -0.429642 -0.375938        -0.417249       -0.392759   \n",
       "gk_kicking          -0.173798 -0.193284        -0.235825       -0.212047   \n",
       "gk_positioning      -0.434033 -0.370243        -0.411793       -0.387089   \n",
       "gk_reflexes         -0.438353 -0.372487        -0.414898       -0.389767   \n",
       "\n",
       "                    gk_diving  gk_handling  gk_kicking  gk_positioning  \\\n",
       "id                   0.013980     0.010436    0.008645        0.013563   \n",
       "player_fifa_api_id  -0.091737    -0.143113   -0.267489       -0.145119   \n",
       "player_api_id       -0.071495    -0.128573   -0.238898       -0.128707   \n",
       "overall_rating       0.027976     0.004410    0.025682        0.005709   \n",
       "potential           -0.011250     0.004742    0.089205        0.003406   \n",
       "crossing            -0.603898    -0.595610   -0.349559       -0.597625   \n",
       "finishing           -0.479162    -0.465099   -0.287681       -0.470673   \n",
       "heading_accuracy    -0.665365    -0.647876   -0.391540       -0.647738   \n",
       "short_passing       -0.693313    -0.689528   -0.413317       -0.690702   \n",
       "volleys             -0.508823    -0.487015   -0.279030       -0.490968   \n",
       "dribbling           -0.652739    -0.650525   -0.427115       -0.653410   \n",
       "curve               -0.557165    -0.545760   -0.333487       -0.550659   \n",
       "free_kick_accuracy  -0.498800    -0.492137   -0.271076       -0.494807   \n",
       "long_passing        -0.456245    -0.459636   -0.248679       -0.461122   \n",
       "ball_control        -0.740928    -0.732483   -0.457276       -0.734933   \n",
       "acceleration        -0.481755    -0.466802   -0.277831       -0.469243   \n",
       "sprint_speed        -0.498410    -0.481658   -0.284312       -0.485935   \n",
       "agility             -0.389065    -0.380678   -0.244120       -0.383405   \n",
       "reactions           -0.074663    -0.082319   -0.037231       -0.080716   \n",
       "balance             -0.386396    -0.362531   -0.183317       -0.364089   \n",
       "shot_power          -0.583264    -0.588412   -0.391854       -0.590893   \n",
       "jumping             -0.038875    -0.037841   -0.015678       -0.036587   \n",
       "stamina             -0.552275    -0.541515   -0.312101       -0.540605   \n",
       "strength            -0.071098    -0.084165   -0.059220       -0.084935   \n",
       "long_shots          -0.545338    -0.538998   -0.331453       -0.543093   \n",
       "aggression          -0.430933    -0.428458   -0.260976       -0.427067   \n",
       "interceptions       -0.372859    -0.330597   -0.075892       -0.325476   \n",
       "positioning         -0.546138    -0.502906   -0.219447       -0.508506   \n",
       "vision              -0.502329    -0.461351   -0.199962       -0.464565   \n",
       "penalties           -0.466943    -0.429642   -0.173798       -0.434033   \n",
       "marking             -0.382917    -0.375938   -0.193284       -0.370243   \n",
       "standing_tackle     -0.418815    -0.417249   -0.235825       -0.411793   \n",
       "sliding_tackle      -0.400544    -0.392759   -0.212047       -0.387089   \n",
       "gk_diving            1.000000     0.925160    0.569396        0.926366   \n",
       "gk_handling          0.925160     1.000000    0.738640        0.966301   \n",
       "gk_kicking           0.569396     0.738640    1.000000        0.737625   \n",
       "gk_positioning       0.926366     0.966301    0.737625        1.000000   \n",
       "gk_reflexes          0.935209     0.966326    0.730917        0.966711   \n",
       "\n",
       "                    gk_reflexes  \n",
       "id                     0.014152  \n",
       "player_fifa_api_id    -0.135443  \n",
       "player_api_id         -0.124961  \n",
       "overall_rating         0.005687  \n",
       "potential              0.003962  \n",
       "crossing              -0.601580  \n",
       "finishing             -0.473173  \n",
       "heading_accuracy      -0.651373  \n",
       "short_passing         -0.692926  \n",
       "volleys               -0.492979  \n",
       "dribbling             -0.656030  \n",
       "curve                 -0.552295  \n",
       "free_kick_accuracy    -0.496332  \n",
       "long_passing          -0.462684  \n",
       "ball_control          -0.737894  \n",
       "acceleration          -0.470619  \n",
       "sprint_speed          -0.487353  \n",
       "agility               -0.383880  \n",
       "reactions             -0.080628  \n",
       "balance               -0.366478  \n",
       "shot_power            -0.593044  \n",
       "jumping               -0.034682  \n",
       "stamina               -0.546066  \n",
       "strength              -0.084306  \n",
       "long_shots            -0.545155  \n",
       "aggression            -0.429931  \n",
       "interceptions         -0.330409  \n",
       "positioning           -0.513326  \n",
       "vision                -0.470105  \n",
       "penalties             -0.438353  \n",
       "marking               -0.372487  \n",
       "standing_tackle       -0.414898  \n",
       "sliding_tackle        -0.389767  \n",
       "gk_diving              0.935209  \n",
       "gk_handling            0.966326  \n",
       "gk_kicking             0.730917  \n",
       "gk_positioning         0.966711  \n",
       "gk_reflexes            1.000000  \n",
       "\n",
       "[38 rows x 38 columns]"
      ]
     },
     "execution_count": 275,
     "metadata": {},
     "output_type": "execute_result"
    }
   ],
   "source": [
    "df.corr()#calculate the correlation"
   ]
  },
  {
   "cell_type": "code",
   "execution_count": 276,
   "metadata": {},
   "outputs": [
    {
     "data": {
      "text/plain": [
       "(array([3.3000e+01, 3.0100e+02, 2.0710e+03, 8.5100e+03, 2.9584e+04,\n",
       "        5.9449e+04, 5.4081e+04, 2.3726e+04, 5.0360e+03, 3.5100e+02]),\n",
       " array([33. , 39.1, 45.2, 51.3, 57.4, 63.5, 69.6, 75.7, 81.8, 87.9, 94. ]),\n",
       " <BarContainer object of 10 artists>)"
      ]
     },
     "execution_count": 276,
     "metadata": {},
     "output_type": "execute_result"
    },
    {
     "data": {
      "image/png": "[encoded data removed]",
      "text/plain": [
       "<Figure size 432x288 with 1 Axes>"
      ]
     },
     "metadata": {
      "needs_background": "light"
     },
     "output_type": "display_data"
    }
   ],
   "source": [
    "plt.hist(df['overall_rating']) #Ploting the distribution of the overall rating"
   ]
  },
  {
   "cell_type": "code",
   "execution_count": 277,
   "metadata": {},
   "outputs": [
    {
     "data": {
      "text/plain": [
       "(array([8.0000e+00, 6.8000e+01, 8.4300e+02, 7.0640e+03, 2.7157e+04,\n",
       "        5.5621e+04, 5.8281e+04, 2.8454e+04, 5.4410e+03, 2.0500e+02]),\n",
       " array([39. , 44.8, 50.6, 56.4, 62.2, 68. , 73.8, 79.6, 85.4, 91.2, 97. ]),\n",
       " <BarContainer object of 10 artists>)"
      ]
     },
     "execution_count": 277,
     "metadata": {},
     "output_type": "execute_result"
    },
    {
     "data": {
      "image/png": "[encoded data removed]",
      "text/plain": [
       "<Figure size 432x288 with 1 Axes>"
      ]
     },
     "metadata": {
      "needs_background": "light"
     },
     "output_type": "display_data"
    }
   ],
   "source": [
    "plt.hist(df['potential']) #Ploting the distribution of the potential"
   ]
  },
  {
   "cell_type": "code",
   "execution_count": 278,
   "metadata": {},
   "outputs": [
    {
     "data": {
      "text/plain": [
       "(array([   78.,   314.,  1294.,  5090., 19711., 46486., 65024., 37216.,\n",
       "         7555.,   374.]),\n",
       " array([17. , 24.9, 32.8, 40.7, 48.6, 56.5, 64.4, 72.3, 80.2, 88.1, 96. ]),\n",
       " <BarContainer object of 10 artists>)"
      ]
     },
     "execution_count": 278,
     "metadata": {},
     "output_type": "execute_result"
    },
    {
     "data": {
      "image/png": "[encoded data removed]",
      "text/plain": [
       "<Figure size 432x288 with 1 Axes>"
      ]
     },
     "metadata": {
      "needs_background": "light"
     },
     "output_type": "display_data"
    }
   ],
   "source": [
    "plt.hist(df['reactions']) #Ploting the distribution of reactions"
   ]
  },
  {
   "cell_type": "markdown",
   "metadata": {},
   "source": [
    "## Cleaning the Data"
   ]
  },
  {
   "cell_type": "code",
   "execution_count": 279,
   "metadata": {},
   "outputs": [],
   "source": [
    "df.drop(df.columns[[0, 1, 2,3]], axis = 1, inplace = True)#droping all id columns"
   ]
  },
  {
   "cell_type": "code",
   "execution_count": 280,
   "metadata": {},
   "outputs": [
    {
     "data": {
      "text/plain": [
       "overall_rating          836\n",
       "potential               836\n",
       "preferred_foot          836\n",
       "attacking_work_rate    3230\n",
       "defensive_work_rate     836\n",
       "crossing                836\n",
       "finishing               836\n",
       "heading_accuracy        836\n",
       "short_passing           836\n",
       "volleys                2713\n",
       "dribbling               836\n",
       "curve                  2713\n",
       "free_kick_accuracy      836\n",
       "long_passing            836\n",
       "ball_control            836\n",
       "acceleration            836\n",
       "sprint_speed            836\n",
       "agility                2713\n",
       "reactions               836\n",
       "balance                2713\n",
       "shot_power              836\n",
       "jumping                2713\n",
       "stamina                 836\n",
       "strength                836\n",
       "long_shots              836\n",
       "aggression              836\n",
       "interceptions           836\n",
       "positioning             836\n",
       "vision                 2713\n",
       "penalties               836\n",
       "marking                 836\n",
       "standing_tackle         836\n",
       "sliding_tackle         2713\n",
       "gk_diving               836\n",
       "gk_handling             836\n",
       "gk_kicking              836\n",
       "gk_positioning          836\n",
       "gk_reflexes             836\n",
       "dtype: int64"
      ]
     },
     "execution_count": 280,
     "metadata": {},
     "output_type": "execute_result"
    }
   ],
   "source": [
    "df.isnull().sum() #checking null values"
   ]
  },
  {
   "cell_type": "code",
   "execution_count": 281,
   "metadata": {},
   "outputs": [
    {
     "name": "stdout",
     "output_type": "stream",
     "text": [
      "['medium' 'high' 'low' '_0' None '5' 'ean' 'o' '1' 'ormal' '7' '2' '8' '4'\n",
      " 'tocky' '0' '3' '6' '9' 'es']\n",
      "['medium' 'high' None 'low' 'None' 'le' 'norm' 'stoc' 'y']\n",
      "['right' 'left' None]\n"
     ]
    }
   ],
   "source": [
    "#looking at categorical data\n",
    "print(df['defensive_work_rate'].unique())\n",
    "print(df['attacking_work_rate'].unique())\n",
    "print(df['preferred_foot'].unique())"
   ]
  },
  {
   "cell_type": "code",
   "execution_count": 282,
   "metadata": {},
   "outputs": [],
   "source": [
    "#cleaning categorical variable 'defensive_work_rate' by dropping all values other than low, medium and high\n",
    "unacceptable=df[(df['defensive_work_rate'] != 'high') & (df['defensive_work_rate'] != 'medium')& (df['defensive_work_rate'] != 'low')].index\n",
    "df.drop(unacceptable, inplace=True)"
   ]
  },
  {
   "cell_type": "code",
   "execution_count": 283,
   "metadata": {},
   "outputs": [],
   "source": [
    "#cleaning categorical variable 'attacking_work_rate' by dropping all values other than low, medium and high\n",
    "unacceptable_2=df[(df['attacking_work_rate'] != 'high') & (df['attacking_work_rate'] != 'medium')& (df['attacking_work_rate'] != 'low')].index\n",
    "df.drop(unacceptable_2, inplace=True)"
   ]
  },
  {
   "cell_type": "code",
   "execution_count": 284,
   "metadata": {},
   "outputs": [
    {
     "name": "stdout",
     "output_type": "stream",
     "text": [
      "['medium' 'high' 'low']\n",
      "['medium' 'high' 'low']\n"
     ]
    }
   ],
   "source": [
    "print(df['defensive_work_rate'].unique())\n",
    "print(df['attacking_work_rate'].unique())"
   ]
  },
  {
   "cell_type": "code",
   "execution_count": 285,
   "metadata": {},
   "outputs": [],
   "source": [
    "#Creating a pandas Series according the order of the values to replace categorical data with numerical values\n",
    "ser=pd.Series([1,2,3],index=['low', 'medium','high' ])\n",
    "ser1=pd.Series([1,2],index=['right', 'left'])\n",
    "df['attacking_work_rate']=df['attacking_work_rate'].replace(ser)\n",
    "df['defensive_work_rate']=df['defensive_work_rate'].replace(ser)\n",
    "df['preferred_foot']=df['preferred_foot'].replace(ser1)"
   ]
  },
  {
   "cell_type": "code",
   "execution_count": 286,
   "metadata": {},
   "outputs": [
    {
     "data": {
      "text/plain": [
       "overall_rating         0\n",
       "potential              0\n",
       "preferred_foot         0\n",
       "attacking_work_rate    0\n",
       "defensive_work_rate    0\n",
       "crossing               0\n",
       "finishing              0\n",
       "heading_accuracy       0\n",
       "short_passing          0\n",
       "volleys                0\n",
       "dribbling              0\n",
       "curve                  0\n",
       "free_kick_accuracy     0\n",
       "long_passing           0\n",
       "ball_control           0\n",
       "acceleration           0\n",
       "sprint_speed           0\n",
       "agility                0\n",
       "reactions              0\n",
       "balance                0\n",
       "shot_power             0\n",
       "jumping                0\n",
       "stamina                0\n",
       "strength               0\n",
       "long_shots             0\n",
       "aggression             0\n",
       "interceptions          0\n",
       "positioning            0\n",
       "vision                 0\n",
       "penalties              0\n",
       "marking                0\n",
       "standing_tackle        0\n",
       "sliding_tackle         0\n",
       "gk_diving              0\n",
       "gk_handling            0\n",
       "gk_kicking             0\n",
       "gk_positioning         0\n",
       "gk_reflexes            0\n",
       "dtype: int64"
      ]
     },
     "execution_count": 286,
     "metadata": {},
     "output_type": "execute_result"
    }
   ],
   "source": [
    "df.isnull().sum()"
   ]
  },
  {
   "cell_type": "code",
   "execution_count": 287,
   "metadata": {},
   "outputs": [
    {
     "data": {
      "text/html": [
       "<div>\n",
       "<style scoped>\n",
       "    .dataframe tbody tr th:only-of-type {\n",
       "        vertical-align: middle;\n",
       "    }\n",
       "\n",
       "    .dataframe tbody tr th {\n",
       "        vertical-align: top;\n",
       "    }\n",
       "\n",
       "    .dataframe thead th {\n",
       "        text-align: right;\n",
       "    }\n",
       "</style>\n",
       "<table border=\"1\" class=\"dataframe\">\n",
       "  <thead>\n",
       "    <tr style=\"text-align: right;\">\n",
       "      <th></th>\n",
       "      <th>overall_rating</th>\n",
       "      <th>potential</th>\n",
       "      <th>preferred_foot</th>\n",
       "      <th>attacking_work_rate</th>\n",
       "      <th>defensive_work_rate</th>\n",
       "      <th>crossing</th>\n",
       "      <th>finishing</th>\n",
       "      <th>heading_accuracy</th>\n",
       "      <th>short_passing</th>\n",
       "      <th>volleys</th>\n",
       "      <th>...</th>\n",
       "      <th>vision</th>\n",
       "      <th>penalties</th>\n",
       "      <th>marking</th>\n",
       "      <th>standing_tackle</th>\n",
       "      <th>sliding_tackle</th>\n",
       "      <th>gk_diving</th>\n",
       "      <th>gk_handling</th>\n",
       "      <th>gk_kicking</th>\n",
       "      <th>gk_positioning</th>\n",
       "      <th>gk_reflexes</th>\n",
       "    </tr>\n",
       "  </thead>\n",
       "  <tbody>\n",
       "    <tr>\n",
       "      <th>0</th>\n",
       "      <td>67.0</td>\n",
       "      <td>71.0</td>\n",
       "      <td>1</td>\n",
       "      <td>2</td>\n",
       "      <td>2</td>\n",
       "      <td>49.0</td>\n",
       "      <td>44.0</td>\n",
       "      <td>71.0</td>\n",
       "      <td>61.0</td>\n",
       "      <td>44.0</td>\n",
       "      <td>...</td>\n",
       "      <td>54.0</td>\n",
       "      <td>48.0</td>\n",
       "      <td>65.0</td>\n",
       "      <td>69.0</td>\n",
       "      <td>69.0</td>\n",
       "      <td>6.0</td>\n",
       "      <td>11.0</td>\n",
       "      <td>10.0</td>\n",
       "      <td>8.0</td>\n",
       "      <td>8.0</td>\n",
       "    </tr>\n",
       "    <tr>\n",
       "      <th>1</th>\n",
       "      <td>67.0</td>\n",
       "      <td>71.0</td>\n",
       "      <td>1</td>\n",
       "      <td>2</td>\n",
       "      <td>2</td>\n",
       "      <td>49.0</td>\n",
       "      <td>44.0</td>\n",
       "      <td>71.0</td>\n",
       "      <td>61.0</td>\n",
       "      <td>44.0</td>\n",
       "      <td>...</td>\n",
       "      <td>54.0</td>\n",
       "      <td>48.0</td>\n",
       "      <td>65.0</td>\n",
       "      <td>69.0</td>\n",
       "      <td>69.0</td>\n",
       "      <td>6.0</td>\n",
       "      <td>11.0</td>\n",
       "      <td>10.0</td>\n",
       "      <td>8.0</td>\n",
       "      <td>8.0</td>\n",
       "    </tr>\n",
       "    <tr>\n",
       "      <th>2</th>\n",
       "      <td>62.0</td>\n",
       "      <td>66.0</td>\n",
       "      <td>1</td>\n",
       "      <td>2</td>\n",
       "      <td>2</td>\n",
       "      <td>49.0</td>\n",
       "      <td>44.0</td>\n",
       "      <td>71.0</td>\n",
       "      <td>61.0</td>\n",
       "      <td>44.0</td>\n",
       "      <td>...</td>\n",
       "      <td>54.0</td>\n",
       "      <td>48.0</td>\n",
       "      <td>65.0</td>\n",
       "      <td>66.0</td>\n",
       "      <td>69.0</td>\n",
       "      <td>6.0</td>\n",
       "      <td>11.0</td>\n",
       "      <td>10.0</td>\n",
       "      <td>8.0</td>\n",
       "      <td>8.0</td>\n",
       "    </tr>\n",
       "    <tr>\n",
       "      <th>3</th>\n",
       "      <td>61.0</td>\n",
       "      <td>65.0</td>\n",
       "      <td>1</td>\n",
       "      <td>2</td>\n",
       "      <td>2</td>\n",
       "      <td>48.0</td>\n",
       "      <td>43.0</td>\n",
       "      <td>70.0</td>\n",
       "      <td>60.0</td>\n",
       "      <td>43.0</td>\n",
       "      <td>...</td>\n",
       "      <td>53.0</td>\n",
       "      <td>47.0</td>\n",
       "      <td>62.0</td>\n",
       "      <td>63.0</td>\n",
       "      <td>66.0</td>\n",
       "      <td>5.0</td>\n",
       "      <td>10.0</td>\n",
       "      <td>9.0</td>\n",
       "      <td>7.0</td>\n",
       "      <td>7.0</td>\n",
       "    </tr>\n",
       "    <tr>\n",
       "      <th>4</th>\n",
       "      <td>61.0</td>\n",
       "      <td>65.0</td>\n",
       "      <td>1</td>\n",
       "      <td>2</td>\n",
       "      <td>2</td>\n",
       "      <td>48.0</td>\n",
       "      <td>43.0</td>\n",
       "      <td>70.0</td>\n",
       "      <td>60.0</td>\n",
       "      <td>43.0</td>\n",
       "      <td>...</td>\n",
       "      <td>53.0</td>\n",
       "      <td>47.0</td>\n",
       "      <td>62.0</td>\n",
       "      <td>63.0</td>\n",
       "      <td>66.0</td>\n",
       "      <td>5.0</td>\n",
       "      <td>10.0</td>\n",
       "      <td>9.0</td>\n",
       "      <td>7.0</td>\n",
       "      <td>7.0</td>\n",
       "    </tr>\n",
       "  </tbody>\n",
       "</table>\n",
       "<p>5 rows × 38 columns</p>\n",
       "</div>"
      ],
      "text/plain": [
       "   overall_rating  potential  preferred_foot  attacking_work_rate  \\\n",
       "0            67.0       71.0               1                    2   \n",
       "1            67.0       71.0               1                    2   \n",
       "2            62.0       66.0               1                    2   \n",
       "3            61.0       65.0               1                    2   \n",
       "4            61.0       65.0               1                    2   \n",
       "\n",
       "   defensive_work_rate  crossing  finishing  heading_accuracy  short_passing  \\\n",
       "0                    2      49.0       44.0              71.0           61.0   \n",
       "1                    2      49.0       44.0              71.0           61.0   \n",
       "2                    2      49.0       44.0              71.0           61.0   \n",
       "3                    2      48.0       43.0              70.0           60.0   \n",
       "4                    2      48.0       43.0              70.0           60.0   \n",
       "\n",
       "   volleys  ...  vision  penalties  marking  standing_tackle  sliding_tackle  \\\n",
       "0     44.0  ...    54.0       48.0     65.0             69.0            69.0   \n",
       "1     44.0  ...    54.0       48.0     65.0             69.0            69.0   \n",
       "2     44.0  ...    54.0       48.0     65.0             66.0            69.0   \n",
       "3     43.0  ...    53.0       47.0     62.0             63.0            66.0   \n",
       "4     43.0  ...    53.0       47.0     62.0             63.0            66.0   \n",
       "\n",
       "   gk_diving  gk_handling  gk_kicking  gk_positioning  gk_reflexes  \n",
       "0        6.0         11.0        10.0             8.0          8.0  \n",
       "1        6.0         11.0        10.0             8.0          8.0  \n",
       "2        6.0         11.0        10.0             8.0          8.0  \n",
       "3        5.0         10.0         9.0             7.0          7.0  \n",
       "4        5.0         10.0         9.0             7.0          7.0  \n",
       "\n",
       "[5 rows x 38 columns]"
      ]
     },
     "execution_count": 287,
     "metadata": {},
     "output_type": "execute_result"
    }
   ],
   "source": [
    "df.head()"
   ]
  },
  {
   "cell_type": "markdown",
   "metadata": {},
   "source": [
    "Q2. Find the best model that can predict the y 'overall_rating'. You can try the following:\n",
    "    <ol>\n",
    "    <li>Linear regression\n",
    "    <li>Polynomial regression\n",
    "    <li>SGD regression\n",
    "\n",
    "<br>Try to change in the paramteres of the algorithms while checking each time the accuracy, confusion matrix and other metrics (sensitivity, ...).\n",
    "\n",
    "Example of parameters for SGD regression : <code>loss='squared_loss', alpha=0.1, penalty='l2', max_iter=1000, learning_rate='constant'</code><br>\n",
    "Check the librairies documentations for other parameters... "
   ]
  },
  {
   "cell_type": "code",
   "execution_count": 288,
   "metadata": {},
   "outputs": [],
   "source": [
    "X = df.iloc[:,1:].values #all columns\n",
    "y = df.iloc[:,0].values #overall_rating"
   ]
  },
  {
   "cell_type": "code",
   "execution_count": 289,
   "metadata": {},
   "outputs": [],
   "source": [
    "#splitting the data\n",
    "from sklearn.model_selection import train_test_split\n",
    "X_train, X_test, y_train, y_test =   train_test_split(X, y, test_size=0.25 , random_state=10)"
   ]
  },
  {
   "cell_type": "code",
   "execution_count": 290,
   "metadata": {},
   "outputs": [],
   "source": [
    "#Standard Scaling\n",
    "from sklearn.preprocessing import StandardScaler\n",
    "scaler=StandardScaler()\n",
    "X_train=scaler.fit_transform(X_train)\n",
    "X_test=scaler.transform(X_test)"
   ]
  },
  {
   "cell_type": "markdown",
   "metadata": {},
   "source": [
    "## 1.Linear Regression"
   ]
  },
  {
   "cell_type": "code",
   "execution_count": 291,
   "metadata": {},
   "outputs": [
    {
     "data": {
      "text/plain": [
       "LinearRegression()"
      ]
     },
     "execution_count": 291,
     "metadata": {},
     "output_type": "execute_result"
    }
   ],
   "source": [
    "from sklearn.linear_model import LinearRegression\n",
    "regressor = LinearRegression()\n",
    "regressor.fit(X_train, y_train)"
   ]
  },
  {
   "cell_type": "code",
   "execution_count": 292,
   "metadata": {},
   "outputs": [
    {
     "name": "stdout",
     "output_type": "stream",
     "text": [
      "[ 2.47885808 -0.00582794 -0.12289118 -0.03692475  0.4148375   0.22050062\n",
      "  1.14176089  0.7199502   0.08281867 -0.23154894  0.20838038  0.21540246\n",
      "  0.08947323  2.04337088  0.08647196  0.11007516 -0.09978134  1.95478901\n",
      "  0.09413956  0.28412069  0.1734906  -0.04543565  0.72380234 -0.25549234\n",
      "  0.33206214  0.24693066 -0.18934346 -0.05554039  0.24396351  0.6550536\n",
      "  0.05424873 -0.56952956  2.71206343  0.54780778 -0.74218956  0.90883788\n",
      "  0.44859733]\n",
      "68.69688919164396\n"
     ]
    }
   ],
   "source": [
    "print(regressor.coef_)\n",
    "print(regressor.intercept_)"
   ]
  },
  {
   "cell_type": "code",
   "execution_count": 293,
   "metadata": {},
   "outputs": [
    {
     "data": {
      "text/plain": [
       "array([70.13986199, 62.54503639, 63.32291209, ..., 71.70903218,\n",
       "       78.01158136, 75.2454889 ])"
      ]
     },
     "execution_count": 293,
     "metadata": {},
     "output_type": "execute_result"
    }
   ],
   "source": [
    "y_pred_l = regressor.predict(X_test)\n",
    "y_pred_l"
   ]
  },
  {
   "cell_type": "code",
   "execution_count": 294,
   "metadata": {},
   "outputs": [
    {
     "name": "stdout",
     "output_type": "stream",
     "text": [
      "Mean Absolute Error: 2.1393895581394227\n",
      "Mean Squared Error: 7.855035625164908\n",
      "Root Mean Squared Error: 2.802683647000658\n"
     ]
    }
   ],
   "source": [
    "#checking result accuracy\n",
    "from sklearn.metrics import *\n",
    "print('Mean Absolute Error:', mean_absolute_error(y_test, y_pred_l))  \n",
    "print('Mean Squared Error:', mean_squared_error(y_test, y_pred_l))  \n",
    "print('Root Mean Squared Error:', np.sqrt(mean_squared_error(y_test, y_pred_l)))"
   ]
  },
  {
   "cell_type": "markdown",
   "metadata": {},
   "source": [
    "## 2.Polynomial Regression"
   ]
  },
  {
   "cell_type": "code",
   "execution_count": 295,
   "metadata": {},
   "outputs": [
    {
     "data": {
      "text/plain": [
       "LinearRegression()"
      ]
     },
     "execution_count": 295,
     "metadata": {},
     "output_type": "execute_result"
    }
   ],
   "source": [
    "from sklearn.preprocessing import PolynomialFeatures #module\n",
    "#choosing a degree of 2\n",
    "PF =  PolynomialFeatures(degree = 2)\n",
    "X_poly = PF.fit_transform(X_train)\n",
    "#applying linear regression on X_poly\n",
    "regressor = LinearRegression()\n",
    "regressor.fit(X_poly, y_train)"
   ]
  },
  {
   "cell_type": "code",
   "execution_count": 296,
   "metadata": {},
   "outputs": [
    {
     "data": {
      "text/plain": [
       "array([68.76230621, 62.61672974, 60.02929688, ..., 68.57014465,\n",
       "       79.05517578, 77.89328003])"
      ]
     },
     "execution_count": 296,
     "metadata": {},
     "output_type": "execute_result"
    }
   ],
   "source": [
    "y_pred_p=regressor.predict(PF.fit_transform(X_test))\n",
    "y_pred_p"
   ]
  },
  {
   "cell_type": "code",
   "execution_count": 297,
   "metadata": {
    "scrolled": false
   },
   "outputs": [
    {
     "name": "stdout",
     "output_type": "stream",
     "text": [
      "Mean Absolute Error: 1.047762869857442\n",
      "Mean Squared Error: 2.0367537553025827\n",
      "Root Mean Squared Error: 1.427148820306622\n"
     ]
    }
   ],
   "source": [
    "print('Mean Absolute Error:', mean_absolute_error(y_test, y_pred_p))  \n",
    "print('Mean Squared Error:', mean_squared_error(y_test, y_pred_p))  \n",
    "print('Root Mean Squared Error:', np.sqrt(mean_squared_error(y_test, y_pred_p)))"
   ]
  },
  {
   "cell_type": "markdown",
   "metadata": {},
   "source": [
    "## 3. Stochastic Gradient Descent"
   ]
  },
  {
   "cell_type": "code",
   "execution_count": 298,
   "metadata": {},
   "outputs": [
    {
     "data": {
      "text/plain": [
       "array([73.67789868, 60.58056003, 63.78023876, ..., 71.33091925,\n",
       "       75.42854559, 80.64617247])"
      ]
     },
     "execution_count": 298,
     "metadata": {},
     "output_type": "execute_result"
    }
   ],
   "source": [
    "from sklearn.linear_model import SGDRegressor\n",
    "reg = SGDRegressor(loss='squared_loss', alpha=0.1, penalty='l2', max_iter=1000, learning_rate='constant')\n",
    "reg.fit(X_train, y_train)\n",
    "y_pred_s = reg.predict(X_test)\n",
    "y_pred_s"
   ]
  },
  {
   "cell_type": "code",
   "execution_count": 299,
   "metadata": {},
   "outputs": [
    {
     "name": "stdout",
     "output_type": "stream",
     "text": [
      "Mean Absolute Error: 2.450468867684765\n",
      "Mean Squared Error: 10.289919707960406\n",
      "Root Mean Squared Error: 3.207790471330758\n"
     ]
    }
   ],
   "source": [
    "print('Mean Absolute Error:', mean_absolute_error(y_test, y_pred_s))  \n",
    "print('Mean Squared Error:', mean_squared_error(y_test, y_pred_s))  \n",
    "print('Root Mean Squared Error:', np.sqrt(mean_squared_error(y_test, y_pred_s)))"
   ]
  },
  {
   "cell_type": "code",
   "execution_count": 300,
   "metadata": {},
   "outputs": [
    {
     "data": {
      "text/plain": [
       "array([69.25835074, 62.27489825, 64.26268203, ..., 71.5172837 ,\n",
       "       77.31650055, 75.03582304])"
      ]
     },
     "execution_count": 300,
     "metadata": {},
     "output_type": "execute_result"
    }
   ],
   "source": [
    "sgd = SGDRegressor(max_iter=1000,tol=1e-3,alpha=0.05)\n",
    "sgd.fit(X_train, y_train)\n",
    "y_pred2 = sgd.predict(X_test)\n",
    "y_pred2 "
   ]
  },
  {
   "cell_type": "code",
   "execution_count": 301,
   "metadata": {},
   "outputs": [
    {
     "name": "stdout",
     "output_type": "stream",
     "text": [
      "Mean Absolute Error: 2.155651462723744\n",
      "Mean Squared Error: 7.995876191139466\n",
      "Root Mean Squared Error: 2.8276980374749114\n"
     ]
    }
   ],
   "source": [
    "print('Mean Absolute Error:', mean_absolute_error(y_test, y_pred2))  \n",
    "print('Mean Squared Error:', mean_squared_error(y_test, y_pred2))  \n",
    "print('Root Mean Squared Error:', np.sqrt(mean_squared_error(y_test, y_pred2)))"
   ]
  },
  {
   "cell_type": "code",
   "execution_count": 302,
   "metadata": {},
   "outputs": [
    {
     "data": {
      "text/plain": [
       "array([69.53695721, 62.63769857, 63.6467823 , ..., 71.54361367,\n",
       "       77.6237379 , 74.30333285])"
      ]
     },
     "execution_count": 302,
     "metadata": {},
     "output_type": "execute_result"
    }
   ],
   "source": [
    "sgd3 = SGDRegressor(loss='squared_epsilon_insensitive',max_iter=1000,tol=1e-3,alpha=0.0001,penalty='l1',learning_rate='optimal')\n",
    "sgd3.fit(X_train, y_train)\n",
    "y_pred3 = sgd3.predict(X_test)\n",
    "y_pred3 "
   ]
  },
  {
   "cell_type": "code",
   "execution_count": 303,
   "metadata": {},
   "outputs": [
    {
     "name": "stdout",
     "output_type": "stream",
     "text": [
      "Mean Absolute Error: 2.153596683699604\n",
      "Mean Squared Error: 7.981182999738717\n",
      "Root Mean Squared Error: 2.825098759289437\n"
     ]
    }
   ],
   "source": [
    "print('Mean Absolute Error:', mean_absolute_error(y_test, y_pred3))  \n",
    "print('Mean Squared Error:', mean_squared_error(y_test, y_pred3))  \n",
    "print('Root Mean Squared Error:', np.sqrt(mean_squared_error(y_test, y_pred3)))"
   ]
  },
  {
   "cell_type": "code",
   "execution_count": 304,
   "metadata": {},
   "outputs": [
    {
     "name": "stdout",
     "output_type": "stream",
     "text": [
      "       Actual  Linear Regression  Polynomial Regression  SGD Regression_1  \\\n",
      "0        68.0          70.139862              68.762306         73.677899   \n",
      "1        63.0          62.545036              62.616730         60.580560   \n",
      "2        57.0          63.322912              60.029297         63.780239   \n",
      "3        73.0          74.390377              73.973846         73.566656   \n",
      "4        70.0          68.430796              70.070320         67.720056   \n",
      "...       ...                ...                    ...               ...   \n",
      "44036    64.0          65.514962              63.418884         65.746718   \n",
      "44037    72.0          74.386486              71.599159         74.163633   \n",
      "44038    68.0          71.709032              68.570145         71.330919   \n",
      "44039    80.0          78.011581              79.055176         75.428546   \n",
      "44040    77.0          75.245489              77.893280         80.646172   \n",
      "\n",
      "       SGD Regression_2  SGD Regression_3  \n",
      "0             69.258351         69.536957  \n",
      "1             62.274898         62.637699  \n",
      "2             64.262682         63.646782  \n",
      "3             73.978231         74.406603  \n",
      "4             68.251175         68.656759  \n",
      "...                 ...               ...  \n",
      "44036         65.733937         65.499957  \n",
      "44037         74.040532         74.426951  \n",
      "44038         71.517284         71.543614  \n",
      "44039         77.316501         77.623738  \n",
      "44040         75.035823         74.303333  \n",
      "\n",
      "[44041 rows x 6 columns]\n"
     ]
    }
   ],
   "source": [
    "#create a dataFrame from dictionnaries\n",
    "compare_model = pd.DataFrame({'Actual': y_test, 'Linear Regression': y_pred_l, 'Polynomial Regression': y_pred_p, 'SGD Regression_1': y_pred_s, 'SGD Regression_2': y_pred2,'SGD Regression_3': y_pred3})\n",
    "print(compare_model)"
   ]
  },
  {
   "cell_type": "code",
   "execution_count": 305,
   "metadata": {},
   "outputs": [
    {
     "name": "stdout",
     "output_type": "stream",
     "text": [
      "                       Mean Absolute Error  Mean Squared Error  \\\n",
      "Linear Regression                 2.139390            7.855036   \n",
      "Polynomial Regression             1.047763            2.036754   \n",
      "SGD Regression_1                  2.450469           10.289920   \n",
      "SGD Regression_2                  2.155651            7.995876   \n",
      "SGD Regression_3                  2.153597            7.981183   \n",
      "\n",
      "                       Root Mean Squared Error  \n",
      "Linear Regression                     2.802684  \n",
      "Polynomial Regression                 1.427149  \n",
      "SGD Regression_1                      3.207790  \n",
      "SGD Regression_2                      2.827698  \n",
      "SGD Regression_3                      2.825099  \n"
     ]
    }
   ],
   "source": [
    "#compare errors\n",
    "MAE = {'Linear Regression': mean_absolute_error(y_test, y_pred_l), 'Polynomial Regression': mean_absolute_error(y_test, y_pred_p), 'SGD Regression_1': mean_absolute_error(y_test, y_pred_s), 'SGD Regression_2': mean_absolute_error(y_test, y_pred2), 'SGD Regression_3': mean_absolute_error(y_test, y_pred3)}\n",
    "MSE = {'Linear Regression': mean_squared_error(y_test, y_pred_l), 'Polynomial Regression': mean_squared_error(y_test, y_pred_p), 'SGD Regression_1':mean_squared_error(y_test, y_pred_s), 'SGD Regression_2': mean_squared_error(y_test, y_pred2), 'SGD Regression_3': mean_squared_error(y_test, y_pred3)}\n",
    "RMSE = {'Linear Regression': np.sqrt(mean_squared_error(y_test, y_pred_l)), 'Polynomial Regression': np.sqrt(mean_squared_error(y_test, y_pred_p)), 'SGD Regression_1':np.sqrt(mean_squared_error(y_test, y_pred_s)), 'SGD Regression_2': np.sqrt(mean_squared_error(y_test, y_pred2)), 'SGD Regression_3': np.sqrt(mean_squared_error(y_test, y_pred3))}\n",
    "compare_error=pd.DataFrame({'Mean Absolute Error':MAE,'Mean Squared Error':MSE,'Root Mean Squared Error':RMSE})\n",
    "print(compare_error)"
   ]
  },
  {
   "cell_type": "code",
   "execution_count": 306,
   "metadata": {},
   "outputs": [
    {
     "data": {
      "image/png": "[encoded data removed]",
      "text/plain": [
       "<Figure size 1152x720 with 1 Axes>"
      ]
     },
     "metadata": {
      "needs_background": "light"
     },
     "output_type": "display_data"
    }
   ],
   "source": [
    "compare_error.plot(kind='bar',figsize=(16,10))\n",
    "plt.show()"
   ]
  },
  {
   "cell_type": "code",
   "execution_count": 307,
   "metadata": {},
   "outputs": [
    {
     "data": {
      "image/png": "[encoded data removed]",
      "text/plain": [
       "<Figure size 432x288 with 5 Axes>"
      ]
     },
     "metadata": {
      "needs_background": "light"
     },
     "output_type": "display_data"
    }
   ],
   "source": [
    "plt.subplot(3,2,1)\n",
    "plt.scatter(y_test,y_pred_l)\n",
    "plt.xlabel('Actual y')\n",
    "plt.ylabel('Linear Regression')\n",
    "plt.title('Actual y vs Linear Regression predicted y')\n",
    "\n",
    "plt.subplot(3,2,2)\n",
    "plt.scatter(y_test,y_pred_p,color='red')\n",
    "plt.xlabel('Actual y')\n",
    "plt.ylabel('Polynomial Regression')\n",
    "plt.title('Actual y vs Polynomial Regression predicted y')\n",
    "\n",
    "plt.subplot(3,2,3)\n",
    "plt.scatter(y_test,y_pred_s)\n",
    "plt.xlabel('Actual y')\n",
    "plt.ylabel('SGD Regression (alpha =0.1 )')\n",
    "plt.title('Actual y vs SGD1 predicted y')\n",
    "\n",
    "plt.subplot(3,2,4)\n",
    "plt.scatter(y_test,y_pred2)\n",
    "plt.xlabel('Actual y')\n",
    "plt.ylabel('SGD Regression (alpha =0.05 )')\n",
    "plt.title('Actual y vs SGD2 predicted y')\n",
    "\n",
    "plt.subplot(3,2,5)\n",
    "plt.scatter(y_test,y_pred3)\n",
    "plt.xlabel('Actual y')\n",
    "plt.ylabel('SGD Regression (alpha =0.0001 )')\n",
    "plt.title('Actual y vs SGD3 predicted y')\n",
    "\n",
    "plt.subplots_adjust(left=0.1,\n",
    "                    bottom=19, \n",
    "                    right=2, \n",
    "                    top=20, \n",
    "                    wspace=0.5, \n",
    "                    hspace=1)\n",
    "\n",
    "plt.show()"
   ]
  },
  {
   "cell_type": "markdown",
   "metadata": {},
   "source": [
    "### As we notice, we obtained the smallest error when using Polynomial Regression.\n",
    "### So the Polynomial Regression model is the best model that can predict the y 'overall_rating'"
   ]
  },
  {
   "cell_type": "markdown",
   "metadata": {},
   "source": [
    "Q3. Find the best model that can predict the y based on one feature only. You can try the following: \n",
    "    <ol>\n",
    "    <li>Linear regression\n",
    "    <li>Polynomial regression\n",
    "    <li>SGD regression\n",
    "        \n",
    "<br>Try to change in the paramteres of the algorithms while checking each time the accuracy, confusion matrix and other metrics (sensitivity, ...) and the visualization of the models."
   ]
  },
  {
   "cell_type": "markdown",
   "metadata": {},
   "source": [
    "# Feature Selection"
   ]
  },
  {
   "cell_type": "markdown",
   "metadata": {},
   "source": [
    "## 1.Ridge Regularization"
   ]
  },
  {
   "cell_type": "code",
   "execution_count": 308,
   "metadata": {},
   "outputs": [
    {
     "data": {
      "text/plain": [
       "(0.83971637415843, 0.8436861262552603)"
      ]
     },
     "execution_count": 308,
     "metadata": {},
     "output_type": "execute_result"
    }
   ],
   "source": [
    "from sklearn.linear_model import Ridge,Lasso\n",
    "ridge = Ridge(alpha=1.0)#choose alpha \n",
    "ridge.fit(X_train, y_train)# Fit the Ridge model\n",
    "# Create the model score\n",
    "ridge.score(X_test, y_test), ridge.score(X_train, y_train)"
   ]
  },
  {
   "cell_type": "code",
   "execution_count": 309,
   "metadata": {},
   "outputs": [
    {
     "data": {
      "text/plain": [
       "array([ 2.47886659, -0.00582802, -0.12289035, -0.03692631,  0.41482675,\n",
       "        0.2204909 ,  1.14172457,  0.7199619 ,  0.08281525, -0.23146113,\n",
       "        0.20837871,  0.2153977 ,  0.08950258,  2.04317521,  0.08646527,\n",
       "        0.11006845, -0.09977502,  1.95480398,  0.09412874,  0.28412526,\n",
       "        0.17350164, -0.04543281,  0.72381522, -0.25547437,  0.33206148,\n",
       "        0.24691422, -0.18933493, -0.05553257,  0.24396778,  0.65497983,\n",
       "        0.05426101, -0.56946826,  2.71184735,  0.54784835, -0.74219938,\n",
       "        0.90880367,  0.44870763])"
      ]
     },
     "execution_count": 309,
     "metadata": {},
     "output_type": "execute_result"
    }
   ],
   "source": [
    "ridge.coef_"
   ]
  },
  {
   "cell_type": "markdown",
   "metadata": {},
   "source": [
    "## 2. Lasso Regularization"
   ]
  },
  {
   "cell_type": "code",
   "execution_count": 310,
   "metadata": {},
   "outputs": [
    {
     "data": {
      "text/plain": [
       "(0.7273548352397349, 0.7329488450593035)"
      ]
     },
     "execution_count": 310,
     "metadata": {},
     "output_type": "execute_result"
    }
   ],
   "source": [
    "lasso = Lasso(alpha=1.0)\n",
    "lasso.fit(X_train, y_train)# Fit the Lasso model\n",
    "# Create the model score\n",
    "lasso.score(X_test, y_test), lasso.score(X_train, y_train)"
   ]
  },
  {
   "cell_type": "code",
   "execution_count": 311,
   "metadata": {},
   "outputs": [
    {
     "data": {
      "text/plain": [
       "array([2.70710556, 0.        , 0.        , 0.        , 0.        ,\n",
       "       0.        , 0.        , 0.        , 0.        , 0.        ,\n",
       "       0.        , 0.        , 0.        , 0.        , 0.        ,\n",
       "       0.        , 0.        , 2.82252265, 0.        , 0.        ,\n",
       "       0.        , 0.        , 0.22765015, 0.        , 0.        ,\n",
       "       0.        , 0.        , 0.        , 0.        , 0.        ,\n",
       "       0.        , 0.        , 0.        , 0.        , 0.        ,\n",
       "       0.        , 0.        ])"
      ]
     },
     "execution_count": 311,
     "metadata": {},
     "output_type": "execute_result"
    }
   ],
   "source": [
    " #print the coefficients\n",
    "lasso.coef_ #more accurate because it adds penalty according to the absolute value of coefficients."
   ]
  },
  {
   "cell_type": "code",
   "execution_count": 312,
   "metadata": {},
   "outputs": [
    {
     "data": {
      "text/plain": [
       "Index(['potential', 'reactions', 'strength'], dtype='object')"
      ]
     },
     "execution_count": 312,
     "metadata": {},
     "output_type": "execute_result"
    }
   ],
   "source": [
    "df.columns[[1,18,23]]"
   ]
  },
  {
   "cell_type": "markdown",
   "metadata": {},
   "source": [
    "### We notice that the most accurate features are reactions and potential\n",
    "### So we will try using each individually as a single feature to predict the y \"overall_rating\""
   ]
  },
  {
   "cell_type": "markdown",
   "metadata": {},
   "source": [
    "# Using feature \"reactions\""
   ]
  },
  {
   "cell_type": "code",
   "execution_count": 313,
   "metadata": {},
   "outputs": [
    {
     "data": {
      "text/plain": [
       "array([[47.],\n",
       "       [47.],\n",
       "       [47.],\n",
       "       ...,\n",
       "       [74.],\n",
       "       [69.],\n",
       "       [66.]])"
      ]
     },
     "execution_count": 313,
     "metadata": {},
     "output_type": "execute_result"
    }
   ],
   "source": [
    "X = df.iloc[:,[18]].values #reactions\n",
    "y = df.iloc[:,0].values #overall_rating\n",
    "X"
   ]
  },
  {
   "cell_type": "code",
   "execution_count": 314,
   "metadata": {},
   "outputs": [],
   "source": [
    "#splitting the data\n",
    "X_train, X_test, y_train, y_test =   train_test_split(X, y, test_size=0.25 , random_state=10)"
   ]
  },
  {
   "cell_type": "markdown",
   "metadata": {},
   "source": [
    "## 1.Linear Regression"
   ]
  },
  {
   "cell_type": "code",
   "execution_count": 315,
   "metadata": {},
   "outputs": [
    {
     "data": {
      "text/plain": [
       "array([63.79622301, 63.79622301, 66.7784882 , ..., 69.76075338,\n",
       "       72.74301857, 78.1110959 ])"
      ]
     },
     "execution_count": 315,
     "metadata": {},
     "output_type": "execute_result"
    }
   ],
   "source": [
    "regressor = LinearRegression()\n",
    "regressor.fit(X_train, y_train)\n",
    "y_pred_l = regressor.predict(X_test)\n",
    "y_pred_l"
   ]
  },
  {
   "cell_type": "code",
   "execution_count": 316,
   "metadata": {},
   "outputs": [
    {
     "name": "stdout",
     "output_type": "stream",
     "text": [
      "Mean Absolute Error: 3.3592624416073846\n",
      "Mean Squared Error: 19.963261984929133\n",
      "Root Mean Squared Error: 4.468026632074738\n"
     ]
    }
   ],
   "source": [
    "#checking result accuracy\n",
    "print('Mean Absolute Error:', mean_absolute_error(y_test, y_pred_l))  \n",
    "print('Mean Squared Error:', mean_squared_error(y_test, y_pred_l))  \n",
    "print('Root Mean Squared Error:', np.sqrt(mean_squared_error(y_test, y_pred_l)))"
   ]
  },
  {
   "cell_type": "code",
   "execution_count": 317,
   "metadata": {},
   "outputs": [
    {
     "data": {
      "image/png": "[encoded data removed]",
      "text/plain": [
       "<Figure size 432x288 with 1 Axes>"
      ]
     },
     "metadata": {
      "needs_background": "light"
     },
     "output_type": "display_data"
    },
    {
     "data": {
      "image/png": "[encoded data removed]",
      "text/plain": [
       "<Figure size 432x288 with 1 Axes>"
      ]
     },
     "metadata": {
      "needs_background": "light"
     },
     "output_type": "display_data"
    }
   ],
   "source": [
    "plt.scatter(X_train, y_train, color = 'gray')\n",
    "plt.plot(X_train, regressor.predict(X_train), color='red')\n",
    "plt.title('Reactions vs Overall Rating (Training set)')\n",
    "plt.xlabel('Reactions')\n",
    "plt.ylabel('Overall Rating')\n",
    "plt.show()\n",
    "plt.close()\n",
    "\n",
    "plt.scatter(X_test, y_test, color = 'gray')\n",
    "plt.plot(X_train, regressor.predict(X_train), color='red')\n",
    "plt.title('Reactions vs Overall Rating (Testing set)')\n",
    "plt.xlabel('Reactions')\n",
    "plt.ylabel('Overall Rating')\n",
    "plt.show()\n",
    "plt.close()"
   ]
  },
  {
   "cell_type": "markdown",
   "metadata": {},
   "source": [
    "## 2. Polynomial Regression"
   ]
  },
  {
   "cell_type": "code",
   "execution_count": 318,
   "metadata": {},
   "outputs": [
    {
     "data": {
      "text/plain": [
       "array([63.18975857, 63.18975857, 65.99310266, ..., 69.23627484,\n",
       "       72.84367497, 79.84798181])"
      ]
     },
     "execution_count": 318,
     "metadata": {},
     "output_type": "execute_result"
    }
   ],
   "source": [
    "#choosing a degree of 15\n",
    "PF15 =  PolynomialFeatures(degree = 15)\n",
    "X_poly = PF15.fit_transform(X_train)\n",
    "#applying linear regression on X_poly\n",
    "regressor = LinearRegression()\n",
    "regressor.fit(X_poly, y_train)\n",
    "y_pred_p2=regressor.predict(PF15.fit_transform(X_test))\n",
    "y_pred_p2"
   ]
  },
  {
   "cell_type": "code",
   "execution_count": 319,
   "metadata": {},
   "outputs": [
    {
     "name": "stdout",
     "output_type": "stream",
     "text": [
      "Mean Absolute Error: 3.2488246300743873\n",
      "Mean Squared Error: 18.786217415794255\n",
      "Root Mean Squared Error: 4.33430702832578\n"
     ]
    }
   ],
   "source": [
    "print('Mean Absolute Error:', mean_absolute_error(y_test, y_pred_p2))  \n",
    "print('Mean Squared Error:', mean_squared_error(y_test, y_pred_p2))  \n",
    "print('Root Mean Squared Error:', np.sqrt(mean_squared_error(y_test, y_pred_p2)))"
   ]
  },
  {
   "cell_type": "code",
   "execution_count": 321,
   "metadata": {
    "scrolled": true
   },
   "outputs": [
    {
     "data": {
      "image/png": "[encoded data removed]",
      "text/plain": [
       "<Figure size 432x288 with 1 Axes>"
      ]
     },
     "metadata": {
      "needs_background": "light"
     },
     "output_type": "display_data"
    },
    {
     "data": {
      "image/png": "[encoded data removed]",
      "text/plain": [
       "<Figure size 432x288 with 1 Axes>"
      ]
     },
     "metadata": {
      "needs_background": "light"
     },
     "output_type": "display_data"
    }
   ],
   "source": [
    "X_grid = np.arange(min(X_train),max(X_train),0.1)\n",
    "X_grid = X_grid.reshape(len(X_grid),1) \n",
    "plt.scatter(X_train,y_train, color='red') \n",
    "  \n",
    "plt.plot(X_grid, regressor.predict(PF15.fit_transform(X_grid)),color='blue') \n",
    "  \n",
    "plt.title(\"Reactions vs Overall Rating-Polynomial(Training Set)\")\n",
    "plt.xlabel('Reactions')\n",
    "plt.ylabel('Overall Rating')\n",
    "plt.show()\n",
    "plt.close()\n",
    "\n",
    "X_grid = np.arange(min(X_train),max(X_train),0.1)\n",
    "X_grid = X_grid.reshape(len(X_grid),1) \n",
    "plt.scatter(X_test,y_test, color='red') \n",
    "  \n",
    "plt.plot(X_grid, regressor.predict(PF15.fit_transform(X_grid)),color='blue') \n",
    "  \n",
    "plt.title(\"Reactions vs Overall Rating-Polynomial(Testing Set)\")\n",
    "plt.xlabel('Reactions')\n",
    "plt.ylabel('Overall Rating')\n",
    "plt.show()\n",
    "plt.close()"
   ]
  },
  {
   "cell_type": "markdown",
   "metadata": {},
   "source": [
    "## 3. SGD Regression"
   ]
  },
  {
   "cell_type": "code",
   "execution_count": 322,
   "metadata": {},
   "outputs": [
    {
     "data": {
      "text/plain": [
       "array([63.35447413, 63.35447413, 66.29851641, ..., 69.24255868,\n",
       "       72.18660095, 77.48587704])"
      ]
     },
     "execution_count": 322,
     "metadata": {},
     "output_type": "execute_result"
    }
   ],
   "source": [
    "sgd = SGDRegressor(max_iter=1000,tol=1e-3,alpha=0.001)\n",
    "sgd.fit(X_train, y_train)\n",
    "y_pred_s = sgd.predict(X_test)\n",
    "y_pred_s"
   ]
  },
  {
   "cell_type": "code",
   "execution_count": 323,
   "metadata": {},
   "outputs": [
    {
     "name": "stdout",
     "output_type": "stream",
     "text": [
      "Mean Absolute Error: 3.3998898763813306\n",
      "Mean Squared Error: 20.193191333310164\n",
      "Root Mean Squared Error: 4.493683492782972\n"
     ]
    }
   ],
   "source": [
    "print('Mean Absolute Error:', mean_absolute_error(y_test, y_pred_s))  \n",
    "print('Mean Squared Error:', mean_squared_error(y_test, y_pred_s))  \n",
    "print('Root Mean Squared Error:', np.sqrt(mean_squared_error(y_test, y_pred_s)))"
   ]
  },
  {
   "cell_type": "code",
   "execution_count": 324,
   "metadata": {},
   "outputs": [
    {
     "data": {
      "image/png": "[encoded data removed]",
      "text/plain": [
       "<Figure size 432x288 with 1 Axes>"
      ]
     },
     "metadata": {
      "needs_background": "light"
     },
     "output_type": "display_data"
    }
   ],
   "source": [
    "x_ax = range(len(y_test))\n",
    "plt.plot(x_ax, y_test, linewidth=1, label=\"original\")\n",
    "plt.plot(x_ax, y_pred_s, linewidth=1.1, label=\"predicted\")\n",
    "plt.title(\"y-test and y-predicted data\")\n",
    "plt.xlabel('X-axis')\n",
    "plt.ylabel('Y-axis')\n",
    "plt.legend(loc='best',fancybox=True, shadow=True)\n",
    "plt.grid(True)\n",
    "plt.show() "
   ]
  },
  {
   "cell_type": "code",
   "execution_count": 325,
   "metadata": {},
   "outputs": [
    {
     "data": {
      "text/plain": [
       "array([63.55401425, 63.55401425, 66.86178366, ..., 70.16955308,\n",
       "       73.47732249, 79.43130744])"
      ]
     },
     "execution_count": 325,
     "metadata": {},
     "output_type": "execute_result"
    }
   ],
   "source": [
    "sgd2 = SGDRegressor(loss='epsilon_insensitive',max_iter=1000,tol=1e-3,alpha=0.005,penalty='l1',learning_rate='optimal')\n",
    "sgd2.fit(X_train, y_train)\n",
    "y_pred2 = sgd2.predict(X_test)\n",
    "y_pred2 "
   ]
  },
  {
   "cell_type": "code",
   "execution_count": 326,
   "metadata": {},
   "outputs": [
    {
     "name": "stdout",
     "output_type": "stream",
     "text": [
      "Mean Absolute Error: 3.359767642757742\n",
      "Mean Squared Error: 20.45905643265344\n",
      "Root Mean Squared Error: 4.523168848567721\n"
     ]
    }
   ],
   "source": [
    "print('Mean Absolute Error:', mean_absolute_error(y_test, y_pred2))  \n",
    "print('Mean Squared Error:', mean_squared_error(y_test, y_pred2))  \n",
    "print('Root Mean Squared Error:', np.sqrt(mean_squared_error(y_test, y_pred2)))"
   ]
  },
  {
   "cell_type": "code",
   "execution_count": 327,
   "metadata": {},
   "outputs": [
    {
     "data": {
      "image/png": "[encoded data removed]",
      "text/plain": [
       "<Figure size 432x288 with 1 Axes>"
      ]
     },
     "metadata": {
      "needs_background": "light"
     },
     "output_type": "display_data"
    }
   ],
   "source": [
    "x_ax = range(len(y_test))\n",
    "plt.plot(x_ax, y_test, linewidth=1, label=\"original\")\n",
    "plt.plot(x_ax, y_pred2, linewidth=1.1, label=\"predicted\")\n",
    "plt.title(\"y-test and y-predicted data\")\n",
    "plt.xlabel('X-axis')\n",
    "plt.ylabel('Y-axis')\n",
    "plt.legend(loc='best',fancybox=True, shadow=True)\n",
    "plt.grid(True)\n",
    "plt.show() "
   ]
  },
  {
   "cell_type": "code",
   "execution_count": 328,
   "metadata": {},
   "outputs": [
    {
     "name": "stdout",
     "output_type": "stream",
     "text": [
      "                       Mean Absolute Error  Mean Squared Error  \\\n",
      "Linear Regression                 3.359262           19.963262   \n",
      "Polynomial Regression             3.248825           18.786217   \n",
      "SGD Regression_1                  3.399890           20.193191   \n",
      "SGD Regression_2                  3.359768           20.459056   \n",
      "\n",
      "                       Root Mean Squared Error  \n",
      "Linear Regression                     4.468027  \n",
      "Polynomial Regression                 4.334307  \n",
      "SGD Regression_1                      4.493683  \n",
      "SGD Regression_2                      4.523169  \n"
     ]
    }
   ],
   "source": [
    "#compare errors\n",
    "MAE = {'Linear Regression': mean_absolute_error(y_test, y_pred_l), 'Polynomial Regression': mean_absolute_error(y_test, y_pred_p2), 'SGD Regression_1': mean_absolute_error(y_test, y_pred_s), 'SGD Regression_2': mean_absolute_error(y_test, y_pred2)}\n",
    "MSE = {'Linear Regression': mean_squared_error(y_test, y_pred_l), 'Polynomial Regression': mean_squared_error(y_test, y_pred_p2), 'SGD Regression_1':mean_squared_error(y_test, y_pred_s), 'SGD Regression_2': mean_squared_error(y_test, y_pred2)}\n",
    "RMSE = {'Linear Regression': np.sqrt(mean_squared_error(y_test, y_pred_l)), 'Polynomial Regression': np.sqrt(mean_squared_error(y_test, y_pred_p2)), 'SGD Regression_1':np.sqrt(mean_squared_error(y_test, y_pred_s)), 'SGD Regression_2': np.sqrt(mean_squared_error(y_test, y_pred2))}\n",
    "compare_error=pd.DataFrame({'Mean Absolute Error':MAE,'Mean Squared Error':MSE,'Root Mean Squared Error':RMSE})\n",
    "print(compare_error)"
   ]
  },
  {
   "cell_type": "code",
   "execution_count": 329,
   "metadata": {},
   "outputs": [
    {
     "data": {
      "image/png": "[encoded data removed]",
      "text/plain": [
       "<Figure size 1152x720 with 1 Axes>"
      ]
     },
     "metadata": {
      "needs_background": "light"
     },
     "output_type": "display_data"
    }
   ],
   "source": [
    "compare_error.plot(kind='bar',figsize=(16,10))\n",
    "plt.show()"
   ]
  },
  {
   "cell_type": "markdown",
   "metadata": {},
   "source": [
    "# Using feature: Potential"
   ]
  },
  {
   "cell_type": "code",
   "execution_count": 330,
   "metadata": {},
   "outputs": [
    {
     "data": {
      "text/plain": [
       "array([[67.],\n",
       "       [67.],\n",
       "       [62.],\n",
       "       ...,\n",
       "       [77.],\n",
       "       [78.],\n",
       "       [80.]])"
      ]
     },
     "execution_count": 330,
     "metadata": {},
     "output_type": "execute_result"
    }
   ],
   "source": [
    "X = df.iloc[:,:1].values #potential\n",
    "y = df.iloc[:,0].values #overall_rating\n",
    "X"
   ]
  },
  {
   "cell_type": "code",
   "execution_count": 331,
   "metadata": {},
   "outputs": [],
   "source": [
    "#splitting the data\n",
    "X_train, X_test, y_train, y_test =   train_test_split(X, y, test_size=0.25 , random_state=10)"
   ]
  },
  {
   "cell_type": "markdown",
   "metadata": {},
   "source": [
    "# 1.Linear Regression"
   ]
  },
  {
   "cell_type": "code",
   "execution_count": 332,
   "metadata": {},
   "outputs": [
    {
     "data": {
      "text/plain": [
       "LinearRegression()"
      ]
     },
     "execution_count": 332,
     "metadata": {},
     "output_type": "execute_result"
    }
   ],
   "source": [
    "regressor = LinearRegression()\n",
    "regressor.fit(X_train, y_train)"
   ]
  },
  {
   "cell_type": "code",
   "execution_count": 333,
   "metadata": {},
   "outputs": [
    {
     "data": {
      "text/plain": [
       "array([68., 63., 57., ..., 68., 80., 77.])"
      ]
     },
     "execution_count": 333,
     "metadata": {},
     "output_type": "execute_result"
    }
   ],
   "source": [
    "y_pred_l = regressor.predict(X_test)\n",
    "y_pred_l"
   ]
  },
  {
   "cell_type": "code",
   "execution_count": 334,
   "metadata": {},
   "outputs": [
    {
     "name": "stdout",
     "output_type": "stream",
     "text": [
      "Mean Absolute Error: 1.4333864229848113e-12\n",
      "Mean Squared Error: 3.2743983517196818e-24\n",
      "Root Mean Squared Error: 1.8095298703585088e-12\n"
     ]
    }
   ],
   "source": [
    "#checking result accuracy\n",
    "print('Mean Absolute Error:', mean_absolute_error(y_test, y_pred_l))  \n",
    "print('Mean Squared Error:', mean_squared_error(y_test, y_pred_l))  \n",
    "print('Root Mean Squared Error:', np.sqrt(mean_squared_error(y_test, y_pred_l)))"
   ]
  },
  {
   "cell_type": "code",
   "execution_count": 335,
   "metadata": {},
   "outputs": [
    {
     "data": {
      "image/png": "[encoded data removed]",
      "text/plain": [
       "<Figure size 432x288 with 1 Axes>"
      ]
     },
     "metadata": {
      "needs_background": "light"
     },
     "output_type": "display_data"
    }
   ],
   "source": [
    "#plottting the training set\n",
    "plt.scatter(X_train, y_train, color = 'gray')\n",
    "plt.plot(X_train, regressor.predict(X_train), color='red')\n",
    "plt.title('Potential vs Overall Rating (Training set)')\n",
    "plt.xlabel('Potential')\n",
    "plt.ylabel('Overall Rating')\n",
    "plt.show()\n",
    "plt.close()"
   ]
  },
  {
   "cell_type": "code",
   "execution_count": 336,
   "metadata": {},
   "outputs": [
    {
     "data": {
      "image/png": "[encoded data removed]",
      "text/plain": [
       "<Figure size 432x288 with 1 Axes>"
      ]
     },
     "metadata": {
      "needs_background": "light"
     },
     "output_type": "display_data"
    }
   ],
   "source": [
    "#plotting the testing set\n",
    "plt.scatter(X_test, y_test, color = 'gray')\n",
    "plt.plot(X_train, regressor.predict(X_train), color = 'green')\n",
    "plt.title('Potential vs Overall Rating  (Test set)')\n",
    "plt.xlabel('Potential')\n",
    "plt.ylabel('Overall Rating')\n",
    "plt.show()"
   ]
  },
  {
   "cell_type": "markdown",
   "metadata": {},
   "source": [
    "# 2. Polynomial Regression"
   ]
  },
  {
   "cell_type": "code",
   "execution_count": 337,
   "metadata": {},
   "outputs": [],
   "source": [
    "#choosing a degree of 2\n",
    "PF =  PolynomialFeatures(degree = 2)\n",
    "X_poly = PF.fit_transform(X_train)"
   ]
  },
  {
   "cell_type": "code",
   "execution_count": 338,
   "metadata": {},
   "outputs": [
    {
     "data": {
      "text/plain": [
       "array([68., 63., 57., ..., 68., 80., 77.])"
      ]
     },
     "execution_count": 338,
     "metadata": {},
     "output_type": "execute_result"
    }
   ],
   "source": [
    "#applying linear regression on X_poly\n",
    "regressor = LinearRegression()\n",
    "regressor.fit(X_poly, y_train)\n",
    "y_pred_p=regressor.predict(PF.fit_transform(X_test))\n",
    "y_pred_p"
   ]
  },
  {
   "cell_type": "code",
   "execution_count": 339,
   "metadata": {
    "scrolled": true
   },
   "outputs": [
    {
     "name": "stdout",
     "output_type": "stream",
     "text": [
      "Mean Absolute Error: 3.602500555308348e-13\n",
      "Mean Squared Error: 2.0744734703072046e-25\n",
      "Root Mean Squared Error: 4.554638811483524e-13\n"
     ]
    }
   ],
   "source": [
    "print('Mean Absolute Error:', mean_absolute_error(y_test, y_pred_p))  \n",
    "print('Mean Squared Error:', mean_squared_error(y_test, y_pred_p))  \n",
    "print('Root Mean Squared Error:', np.sqrt(mean_squared_error(y_test, y_pred_p)))"
   ]
  },
  {
   "cell_type": "code",
   "execution_count": 340,
   "metadata": {},
   "outputs": [
    {
     "data": {
      "image/png": "[encoded data removed]",
      "text/plain": [
       "<Figure size 432x288 with 1 Axes>"
      ]
     },
     "metadata": {
      "needs_background": "light"
     },
     "output_type": "display_data"
    }
   ],
   "source": [
    "plt.scatter(X_test, y_test, color = 'gray')\n",
    "plt.plot(X_train, regressor.predict(PF.fit_transform(X_train)), color = 'green')\n",
    "plt.title('Polynomial Regression')\n",
    "plt.xlabel('Potential')\n",
    "plt.ylabel('Overall Rating')\n",
    "plt.show()"
   ]
  },
  {
   "cell_type": "code",
   "execution_count": 341,
   "metadata": {},
   "outputs": [
    {
     "data": {
      "text/plain": [
       "array([67.99764094, 62.99848085, 57.00850962, ..., 67.99764094,\n",
       "       79.99387962, 77.000485  ])"
      ]
     },
     "execution_count": 341,
     "metadata": {},
     "output_type": "execute_result"
    }
   ],
   "source": [
    "#choosing a degree of 10\n",
    "PF10 =  PolynomialFeatures(degree = 10)\n",
    "X_poly = PF10.fit_transform(X_train)\n",
    "#applying linear regression on X_poly\n",
    "regressor = LinearRegression()\n",
    "regressor.fit(X_poly, y_train)\n",
    "y_pred_p2=regressor.predict(PF10.fit_transform(X_test))\n",
    "y_pred_p2"
   ]
  },
  {
   "cell_type": "code",
   "execution_count": 342,
   "metadata": {},
   "outputs": [
    {
     "name": "stdout",
     "output_type": "stream",
     "text": [
      "Mean Absolute Error: 0.003329768164181592\n",
      "Mean Squared Error: 5.045860159092833e-05\n",
      "Root Mean Squared Error: 0.007103421822680132\n"
     ]
    }
   ],
   "source": [
    "print('Mean Absolute Error:', mean_absolute_error(y_test, y_pred_p2))  \n",
    "print('Mean Squared Error:', mean_squared_error(y_test, y_pred_p2))  \n",
    "print('Root Mean Squared Error:', np.sqrt(mean_squared_error(y_test, y_pred_p2)))"
   ]
  },
  {
   "cell_type": "code",
   "execution_count": 343,
   "metadata": {},
   "outputs": [
    {
     "data": {
      "image/png": "[encoded data removed]",
      "text/plain": [
       "<Figure size 432x288 with 1 Axes>"
      ]
     },
     "metadata": {
      "needs_background": "light"
     },
     "output_type": "display_data"
    }
   ],
   "source": [
    "X_grid = np.arange(min(X),max(X),0.1)\n",
    "X_grid = X_grid.reshape(len(X_grid),1) \n",
    "plt.scatter(X,y, color='red') \n",
    "  \n",
    "plt.plot(X_grid, regressor.predict(PF10.fit_transform(X_grid)),color='blue') \n",
    "  \n",
    "plt.title(\"Potential vs Overall Rating(Polynomial)\")\n",
    "plt.xlabel('Potential')\n",
    "plt.ylabel('Overall Rating')\n",
    "plt.show()\n",
    "plt.close()"
   ]
  },
  {
   "cell_type": "markdown",
   "metadata": {},
   "source": [
    "# SGD Regressor"
   ]
  },
  {
   "cell_type": "code",
   "execution_count": 344,
   "metadata": {},
   "outputs": [
    {
     "data": {
      "text/plain": [
       "array([-2.87227290e+13, -2.66103484e+13, -2.40754916e+13, ...,\n",
       "       -2.87227290e+13, -3.37924426e+13, -3.25250142e+13])"
      ]
     },
     "execution_count": 344,
     "metadata": {},
     "output_type": "execute_result"
    }
   ],
   "source": [
    "reg = SGDRegressor(loss='squared_loss', alpha=0.1, penalty='l2', max_iter=1000, learning_rate='constant')\n",
    "reg.fit(X_train, y_train)\n",
    "y_pred_s = reg.predict(X_test)\n",
    "y_pred_s"
   ]
  },
  {
   "cell_type": "code",
   "execution_count": 345,
   "metadata": {},
   "outputs": [
    {
     "name": "stdout",
     "output_type": "stream",
     "text": [
      "Mean Absolute Error: 29006953863615.977\n",
      "Mean Squared Error: 8.50150458100527e+26\n",
      "Root Mean Squared Error: 29157339695186.992\n"
     ]
    }
   ],
   "source": [
    "print('Mean Absolute Error:', mean_absolute_error(y_test, y_pred_s))  \n",
    "print('Mean Squared Error:', mean_squared_error(y_test, y_pred_s))  \n",
    "print('Root Mean Squared Error:', np.sqrt(mean_squared_error(y_test, y_pred_s)))"
   ]
  },
  {
   "cell_type": "code",
   "execution_count": 346,
   "metadata": {},
   "outputs": [
    {
     "data": {
      "image/png": "[encoded data removed]",
      "text/plain": [
       "<Figure size 432x288 with 1 Axes>"
      ]
     },
     "metadata": {
      "needs_background": "light"
     },
     "output_type": "display_data"
    }
   ],
   "source": [
    "x_ax = range(len(y_test))\n",
    "plt.plot(x_ax, y_test, linewidth=1, label=\"original\")\n",
    "plt.plot(x_ax, y_pred_s, linewidth=1.1, label=\"predicted\")\n",
    "plt.title(\"y-test and y-predicted data\")\n",
    "plt.xlabel('X-axis')\n",
    "plt.ylabel('Y-axis')\n",
    "plt.legend(loc='best',fancybox=True, shadow=True)\n",
    "plt.grid(True)\n",
    "plt.show() "
   ]
  },
  {
   "cell_type": "code",
   "execution_count": 347,
   "metadata": {},
   "outputs": [
    {
     "data": {
      "text/plain": [
       "array([67.98575305, 62.97685914, 56.96618645, ..., 67.98575305,\n",
       "       80.00709843, 77.00176208])"
      ]
     },
     "execution_count": 347,
     "metadata": {},
     "output_type": "execute_result"
    }
   ],
   "source": [
    "clf = SGDRegressor(max_iter=1000,tol=1e-3,alpha=0.001)\n",
    "clf.fit(X_train, y_train)\n",
    "y_pred2 = clf.predict(X_test)\n",
    "y_pred2 "
   ]
  },
  {
   "cell_type": "code",
   "execution_count": 348,
   "metadata": {},
   "outputs": [
    {
     "name": "stdout",
     "output_type": "stream",
     "text": [
      "Mean Absolute Error: 0.014745691631013122\n",
      "Mean Squared Error: 0.00032537084466782967\n",
      "Root Mean Squared Error: 0.018038038825433037\n"
     ]
    }
   ],
   "source": [
    "print('Mean Absolute Error:', mean_absolute_error(y_test, y_pred2))  \n",
    "print('Mean Squared Error:', mean_squared_error(y_test, y_pred2))  \n",
    "print('Root Mean Squared Error:', np.sqrt(mean_squared_error(y_test, y_pred2)))"
   ]
  },
  {
   "cell_type": "code",
   "execution_count": 349,
   "metadata": {},
   "outputs": [
    {
     "data": {
      "image/png": "[encoded data removed]",
      "text/plain": [
       "<Figure size 432x288 with 1 Axes>"
      ]
     },
     "metadata": {
      "needs_background": "light"
     },
     "output_type": "display_data"
    }
   ],
   "source": [
    "x_ax = range(len(y_test))\n",
    "plt.plot(x_ax, y_test, linewidth=1, label=\"original\")\n",
    "plt.plot(x_ax, y_pred2, linewidth=1.1, label=\"predicted\")\n",
    "plt.title(\"y-test and y-predicted data\")\n",
    "plt.xlabel('X-axis')\n",
    "plt.ylabel('Y-axis')\n",
    "plt.legend()\n",
    "plt.grid(True)\n",
    "plt.show() "
   ]
  },
  {
   "cell_type": "code",
   "execution_count": 350,
   "metadata": {},
   "outputs": [
    {
     "name": "stdout",
     "output_type": "stream",
     "text": [
      "                         Mean Absolute Error  Mean Squared Error  \\\n",
      "Linear Regression               1.433386e-12        3.274398e-24   \n",
      "Polynomial Regression           3.602501e-13        2.074473e-25   \n",
      "SGD Regression_1                2.900695e+13        8.501505e+26   \n",
      "SGD Regression_2                1.474569e-02        3.253708e-04   \n",
      "Polynomial Regression 2         3.329768e-03        5.045860e-05   \n",
      "\n",
      "                         Root Mean Squared Error  \n",
      "Linear Regression                   1.809530e-12  \n",
      "Polynomial Regression               4.554639e-13  \n",
      "SGD Regression_1                    2.915734e+13  \n",
      "SGD Regression_2                    1.803804e-02  \n",
      "Polynomial Regression 2             7.103422e-03  \n"
     ]
    }
   ],
   "source": [
    "#compare errors\n",
    "MAE = {'Linear Regression': mean_absolute_error(y_test, y_pred_l), 'Polynomial Regression': mean_absolute_error(y_test, y_pred_p), 'SGD Regression_1': mean_absolute_error(y_test, y_pred_s), 'SGD Regression_2': mean_absolute_error(y_test, y_pred2), 'Polynomial Regression 2': mean_absolute_error(y_test, y_pred_p2)}\n",
    "MSE = {'Linear Regression': mean_squared_error(y_test, y_pred_l), 'Polynomial Regression': mean_squared_error(y_test, y_pred_p), 'SGD Regression_1':mean_squared_error(y_test, y_pred_s), 'SGD Regression_2': mean_squared_error(y_test, y_pred2), 'Polynomial Regression 2': mean_squared_error(y_test, y_pred_p2)}\n",
    "RMSE = {'Linear Regression': np.sqrt(mean_squared_error(y_test, y_pred_l)), 'Polynomial Regression': np.sqrt(mean_squared_error(y_test, y_pred_p)), 'SGD Regression_1':np.sqrt(mean_squared_error(y_test, y_pred_s)), 'SGD Regression_2': np.sqrt(mean_squared_error(y_test, y_pred2)), 'Polynomial Regression 2': np.sqrt(mean_squared_error(y_test, y_pred_p2))}\n",
    "compare_error=pd.DataFrame({'Mean Absolute Error':MAE,'Mean Squared Error':MSE,'Root Mean Squared Error':RMSE})\n",
    "print(compare_error)"
   ]
  }
 ],
 "metadata": {
  "kernelspec": {
   "display_name": "Python 3",
   "language": "python",
   "name": "python3"
  },
  "language_info": {
   "codemirror_mode": {
    "name": "ipython",
    "version": 3
   },
   "file_extension": ".py",
   "mimetype": "text/x-python",
   "name": "python",
   "nbconvert_exporter": "python",
   "pygments_lexer": "ipython3",
   "version": "3.8.5"
  }
 },
 "nbformat": 4,
 "nbformat_minor": 2
}
